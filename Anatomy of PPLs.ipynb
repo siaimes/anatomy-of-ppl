{
 "cells": [
  {
   "cell_type": "markdown",
   "metadata": {},
   "source": [
    "# Anatomy of PPLs"
   ]
  },
  {
   "cell_type": "markdown",
   "metadata": {},
   "source": [
    "**Frequentist**\n",
    "\n",
    "Probabilities make sense only if there is some repeating event.\n",
    "Probability over parameters don't make sense since there is only one true parameter.\n",
    "Learning is the task of searching for this one true parameter\n",
    "\n",
    "**Bayesian**\n",
    "\n",
    "Probabilities are about uncertainty.\n",
    "We are uncertain about the parameters of our model since models are approximations.\n"
   ]
  },
  {
   "cell_type": "markdown",
   "metadata": {},
   "source": [
    "**Why Bayesian Modeling?**\n",
    "\n",
    "- Small data\n",
    "- Model uncertainty\n",
    "- Transparency/Interpretability\n",
    "- No more loss hacking\n",
    "- Easy to impose constraining knowledge (as priors)\n",
    "- Easy to combine information from different types of sensors"
   ]
  },
  {
   "cell_type": "markdown",
   "metadata": {},
   "source": [
    "**Uncertainty**\n",
    "\n",
    "There is uncertainty inherent in data due to incompleteness and measurement noise. This uncertainty propogates to the model. Unless we explicitly account for this uncertainty in the model, we have no means of measuring and managing it."
   ]
  },
  {
   "cell_type": "markdown",
   "metadata": {},
   "source": [
    "**Model**\n",
    "\n",
    "Models are an approximation of a real world phenomenon. Models are built based on our knowledge of the data generating process. Data-driven models combine expert insight with observed data. \n",
    "\n",
    "Human insight constraints the space of models within which the best model is \"found\" through optimization methods.\n",
    "\n"
   ]
  },
  {
   "cell_type": "markdown",
   "metadata": {},
   "source": [
    "**Probabilistic Model**\n",
    "\n",
    "A frequentist model (think Linear Regression $y=wx +b$) is a (deterministic) mapping from features to output. \n",
    "\n",
    "- Features : $x = [x_1, x_2, .. x_n]$ \n",
    "- Model : $y = wx + b$\n",
    "- Output : $y\\ \\epsilon\\ (-\\inf, +\\inf)$\n",
    "\n",
    "A probabilistic model represent a joint probability of observed and latent variables (factors).\n",
    "Variables are probability distributions.\n",
    "\n",
    "- Observed Variable : x\n",
    "- Model : (Joint Distribution) $p(x, y)$\n",
    "    - Latent Variable : $w \\sim \\mathcal{N}(w_{loc}, w_{scale})$\n",
    "    - Latent Variable : $b \\sim \\mathcal{N}(b_{loc}, b_{scale})$\n",
    "    - $y \\sim \\mathcal{N}(wx + b)$\n",
    "- Outcome Variable : y\n",
    "    - Observed Variable during Inference\n",
    "        - $p(w | x = ..., y = ... )$\n",
    "        - $p(b | x = ..., y = ... )$\n",
    "    "
   ]
  },
  {
   "cell_type": "markdown",
   "metadata": {},
   "source": [
    "**Probabilistic Programming**\n",
    "\n",
    "- Python Constructs (if, while, ...)\n",
    "    - Recursion\n",
    "    - Higher order Functions\n",
    "- Randomness\n",
    "    - Distributions\n",
    "         - Normal\n",
    "         - Bernoulli"
   ]
  },
  {
   "cell_type": "markdown",
   "metadata": {},
   "source": [
    "**Distributions**\n",
    "\n",
    "A distribution must have these 3 methods:\n",
    "\n",
    "- sample\n",
    "- score\n",
    "- support\n"
   ]
  },
  {
   "cell_type": "markdown",
   "metadata": {},
   "source": [
    "**Normal**"
   ]
  },
  {
   "cell_type": "code",
   "execution_count": 4,
   "metadata": {},
   "outputs": [
    {
     "data": {
      "text/plain": [
       "[<matplotlib.lines.Line2D at 0x116c107b8>]"
      ]
     },
     "execution_count": 4,
     "metadata": {},
     "output_type": "execute_result"
    },
    {
     "data": {
      "image/png": "[encoded data removed]",
      "text/plain": [
       "<Figure size 432x288 with 1 Axes>"
      ]
     },
     "metadata": {},
     "output_type": "display_data"
    }
   ],
   "source": [
    "import scipy.stats as stats\n",
    "import numpy as np\n",
    "import matplotlib.pyplot as plt\n",
    "plt.style.use('ggplot')\n",
    "x = np.linspace(-3., 3., 100)\n",
    "plt.plot(x, stats.norm.pdf(x, 0., 1.))"
   ]
  },
  {
   "cell_type": "code",
   "execution_count": 17,
   "metadata": {},
   "outputs": [
    {
     "data": {
      "text/plain": [
       "(tensor(-1.1386), Real(), tensor(-1.0439), tensor(-1.0439))"
      ]
     },
     "execution_count": 17,
     "metadata": {},
     "output_type": "execute_result"
    }
   ],
   "source": [
    "import torch.distributions as tdist\n",
    "d = tdist.Normal(0., 1.)\n",
    "d.sample(), d.support, d.log_prob(0.5), d.log_prob(-0.5)"
   ]
  },
  {
   "cell_type": "markdown",
   "metadata": {},
   "source": [
    "**Bernoulli**"
   ]
  },
  {
   "cell_type": "code",
   "execution_count": 29,
   "metadata": {},
   "outputs": [
    {
     "data": {
      "text/plain": [
       "(tensor(1.), Boolean())"
      ]
     },
     "execution_count": 29,
     "metadata": {},
     "output_type": "execute_result"
    }
   ],
   "source": [
    "d = tdist.Bernoulli(0.5)\n",
    "d.sample(), d.support"
   ]
  },
  {
   "cell_type": "markdown",
   "metadata": {},
   "source": [
    "**How to encode a model in python?**\n",
    "\n",
    "We would like to write the joint probability $p(x, z)$ as a function.\n",
    "\n",
    "```python\n",
    "def model(x, y):\n",
    "    w = sample('w', Normal(0., 1.))\n",
    "    b = sample('b', Normal(0., 1.))\n",
    "    y_mean = w*x + b\n",
    "    y_sample = sample('y', Normal(y_mean, 1.))\n",
    "    return y_sample\n",
    "```"
   ]
  },
  {
   "cell_type": "markdown",
   "metadata": {},
   "source": [
    "**How to learn from data?**\n",
    "\n",
    "To learn from data, we need to track the variables of interest. In this case, `w` and `b` are our latent variables which should be inferred from the data. `y` is the observed variable during inference. How do we track these variables (name and corresponding distribution function). "
   ]
  },
  {
   "cell_type": "markdown",
   "metadata": {},
   "source": [
    "**Tracking Variables**\n",
    "\n",
    "Notice that every variable of interest is associated with a `sample` call. To track the variables, we make the `sample` call \"effectful\". In addition to just returning a sample from the distribution, `sample` call adds the \"sample site\" to a global registry."
   ]
  },
  {
   "cell_type": "markdown",
   "metadata": {},
   "source": [
    "**Enter the Stack**"
   ]
  },
  {
   "cell_type": "code",
   "execution_count": 1,
   "metadata": {},
   "outputs": [],
   "source": [
    "STACK = []"
   ]
  },
  {
   "cell_type": "markdown",
   "metadata": {},
   "source": [
    "**Learning Variables**\n",
    "\n",
    "You should have noticed that the variables are *parametric* probability distributions ($w \\sim N(0., 1.)$). Learning variables means learning the parameters of these distributions.\n",
    "\n",
    "Know the difference between *latent variables* and *parameters*.\n",
    "\n",
    "![](https://i.imgur.com/1CyonQG.png)\n",
    "\n",
    "$$p(x,z) = p(x)p(z|x) = p(x|z)p(z)$$\n",
    "$$p(z|x) = \\frac{p(x|z)p(z)}{p(x)}$$\n",
    "$$p(z|x) = \\frac{p(x,z)}{\\int p(x,z)\\ dz}$$\n",
    "\n",
    "Learning the posterior $p(z|x)$ analytically is impossible (or just insanely hard). "
   ]
  },
  {
   "cell_type": "markdown",
   "metadata": {},
   "source": [
    "**Omg! What now?**\n",
    "\n",
    "We introduce a new parametric distribution $q_{\\phi}(z)$, parameterized by $\\phi$ (variational parameters). Pyro developers chose to call this a *guide* in the context of pyro.\n",
    "\n",
    "The idea is to consider $q$ as an approximation to the true posterior $p(z\\ |\\ x)$ and optimize it to be as close as possible to the posterior, while maintaining the simplicity of $q$.\n",
    "\n",
    "![](https://i.imgur.com/5HGBpcb.png)\n",
    "\n",
    "**Mean-Field Assumption**\n",
    "\n",
    "$q$ is typically chosen as a factorizable distribution\n",
    "\n",
    "$$q(z) = q(z_1)q(z_2)...q(z_m)$$\n",
    "\n",
    "**Exponential Family**\n",
    "\n",
    "$$q(z) = \\mathcal{N}(loc_{z_1}, scale_{z_1})\\mathcal{N}(loc_{z_2}, scale_{z_2})...\\mathcal{N}(loc_{z_m}, scale_{z_m})$$"
   ]
  },
  {
   "cell_type": "markdown",
   "metadata": {},
   "source": [
    "**Note** : Latent variables get the bayesian treatment; (Variational) Parameters don't."
   ]
  },
  {
   "cell_type": "markdown",
   "metadata": {},
   "source": [
    "**Encode guide as a function**\n",
    "\n",
    "```python\n",
    "def guide(x, y):\n",
    "  \"\"\" Variational Parameters \"\"\"\n",
    "  w_loc = param('w_loc', 0.)\n",
    "  w_scale = param('w_scale', 1.)  # +ve\n",
    "  b_loc = param('b_loc', 0.)\n",
    "  b_scale = param('b_scale', 1.)  # +ve\n",
    "\n",
    "  \"\"\" Latent Variables \"\"\"\n",
    "  w = sample('w', Normal(w_loc, w_scale))\n",
    "  b = sample('b', Normal(b_loc, b_scale))\n",
    "```"
   ]
  },
  {
   "cell_type": "markdown",
   "metadata": {},
   "source": [
    "**`param` calls are effectful**\n",
    "\n",
    "The `param` function stores the parameters with names to the `PARAM_STORE`\n",
    "\n"
   ]
  },
  {
   "cell_type": "code",
   "execution_count": 32,
   "metadata": {},
   "outputs": [],
   "source": [
    "PARAM_STORE = {}"
   ]
  },
  {
   "cell_type": "markdown",
   "metadata": {},
   "source": [
    "**Inference**\n",
    "\n",
    "We have turned inference to an optimization problem. But what is the objective function? We need our approximation to be as close as possible to the intractable posterior. Although we do not \n",
    "\n",
    "![](https://i.imgur.com/XgbxrhO.png)\n"
   ]
  },
  {
   "cell_type": "markdown",
   "metadata": {},
   "source": [
    "$$L = \\int_z q(z)\\ log\\frac{p(x, z)}{q(z)}$$\n",
    "\n",
    "When you see an intractable integral, you think *Monte Carlo Approximation*.\n",
    "\n",
    "$$L = \\mathbb{E}_{q_{\\phi}(z)}\\ \\big{[}log\\ p_{\\theta}(x,z) - log\\ q_{\\phi}(z)\\big{]}$$\n",
    "\n",
    "- $log\\ p_{\\theta}(x, z)$\n",
    "    - Log Probability of sample $z \\sim q(z)$ evaluated under model $p(x,z)$\n",
    "    - We add up individual log probabilites of $z_1, z_2, .. z_m$\n",
    "        - Because, *Mean-field assumption* baby!\n",
    "    - $\\{w, b\\}$ in our case\n",
    "- $log\\ q_(z)$\n",
    "    - Log probability of sample $z \\sim q(z)$ evaluated under guide $q(z)$"
   ]
  },
  {
   "cell_type": "markdown",
   "metadata": {},
   "source": [
    "![](https://www2.isye.gatech.edu/~brani/isyebayes/bank/bayesfun.jpg)"
   ]
  },
  {
   "cell_type": "markdown",
   "metadata": {},
   "source": [
    "**Implementing Inference**\n",
    "\n",
    "Remember the registry? I lied. It's not exactly a registry. The `sample` statements are encoded as messages and sent to a bunch of listeners or handlers that will make use of the messages.\n",
    "\n",
    "**Message Encoding**\n",
    "\n",
    "```python\n",
    "msg = {\n",
    "    'name' : 'w',\n",
    "    'type' : 'sample',  # there are other types? yeah.. hang in there!\n",
    "    'fn'   : Normal(0., 1.),\n",
    "    'stop' : False  # a handler decides to set this, so other handlers don't   touch this msg\n",
    "}\n",
    "```\n",
    "\n",
    "The `param` function also creates a message (of type `param`) and sends it to thhe handlers.\n",
    "\n",
    "**Handlers**\n",
    "\n",
    "The handlers deal with the messages (sample sites). Types of handlers : \n",
    "\n",
    "- Trace : Just take a copy of all the messages\n",
    "- Block : If a condition succeeds, set `'stop' = False`\n",
    "- Replay\n",
    "    - Run a model by reusing samples from guide\n",
    "    - Implemented to support Monte-Carlo ELBO\n",
    "    - Calculate log probability density of samples from guide $q(z)$ under the model $p(x,z)$\n",
    "    \n",
    "Handlers are designed to support inference. There will be multiple handlers at work at the same time, as we will see later. The handlers are put in a stack. The messages are passed through the stack."
   ]
  },
  {
   "cell_type": "markdown",
   "metadata": {},
   "source": [
    "**ELBO Implementation**"
   ]
  },
  {
   "cell_type": "markdown",
   "metadata": {},
   "source": [
    "```python\n",
    "def elbo(model, guide, *args, **kwargs):\n",
    "    # run guide with args\n",
    "    # record `sample` and `param` calls\n",
    "    guide_trace = trace(guide).get_trace(*args, **kwargs)\n",
    "    # trace model execution\n",
    "    # replay : reuse sampled values from guide trace\n",
    "    model_trace = trace(replay(model, guide_trace)).get_trace(*args, **kwargs)\n",
    "    # elbo\n",
    "    elbo = 0.\n",
    "    # iterate through sample sites in model\n",
    "    # add log_p(z) term to ELBO\n",
    "    for site in model_trace.values():\n",
    "        if site['type'] == 'sample':\n",
    "            elbo = elbo + site['fn'].log_prob(site['value']).sum()\n",
    "    # iterate through sample sites in guide\n",
    "    # add log_q(z) term to ELBO\n",
    "    for site in guide_trace.values():\n",
    "        if site['type'] == 'sample':\n",
    "            elbo = elbo - site['fn'].log_prob(site['value']).sum()\n",
    "    return -elbo  # because we minimize\n",
    "```"
   ]
  },
  {
   "cell_type": "markdown",
   "metadata": {},
   "source": [
    "**Stochastic Variational Inference**"
   ]
  },
  {
   "cell_type": "markdown",
   "metadata": {},
   "source": [
    "```python\n",
    "class SVI(object):\n",
    "  # Interface for Stochastic Variational Inference\n",
    "  # [ model, guide, optimizer, loss_fn ]\n",
    "  #\n",
    "  # [1] Run Model and Guide\n",
    "  # [2] Construct loss function\n",
    "  # [3] Take a gradient step\n",
    "  def __init__(self, model, guide, optimizer, loss_fn):\n",
    "    self.model = model\n",
    "    self.guide = guide\n",
    "    self.optimizer = optimizer\n",
    "    self.loss_fn = loss_fn\n",
    "\n",
    "  def step(self, *args, **kwargs):\n",
    "    # run trace to capture parameter values\n",
    "    with trace() as param_capture:\n",
    "      # block `sample` sites from trace; capture only parameters\n",
    "      with block(hide_fn=lambda msg : msg['type'] == 'sample'):\n",
    "        # calculate loss\n",
    "        loss = self.loss_fn(self.model, self.guide, *args, **kwargs)\n",
    "        \n",
    "    # calculate gradients\n",
    "    loss.backward()\n",
    "    # grab parameters from trace\n",
    "    params = [ site['value'].unconstrained()\n",
    "        for site in param_capture.values() ]\n",
    "    # run optimizer; update params\n",
    "    self.optimizer(params)\n",
    "    for p in params:  # clear gradients\n",
    "      p.grad = p.new_zeros(p.shape)\n",
    "    return loss.item()\n",
    "```"
   ]
  },
  {
   "cell_type": "markdown",
   "metadata": {},
   "source": [
    "# Latent Normal"
   ]
  },
  {
   "cell_type": "code",
   "execution_count": 41,
   "metadata": {},
   "outputs": [],
   "source": [
    "import minipyro.minipyro as pyro\n",
    "import torch\n",
    "\n",
    "from torch.distributions import constraints\n",
    "import pyro.distributions as pdist\n",
    "\n",
    "import examples.plots as plots\n",
    "from tqdm import tqdm"
   ]
  },
  {
   "cell_type": "code",
   "execution_count": 40,
   "metadata": {},
   "outputs": [
    {
     "name": "stdout",
     "output_type": "stream",
     "text": [
      "True model : Normal(3., 1.)\n",
      "[0] loss : 414.2901306152344\n",
      "[100] loss : 399.85675048828125\n",
      "[200] loss : 191.5714569091797\n",
      "[300] loss : 186.42105102539062\n",
      "[400] loss : 154.4515838623047\n",
      "[500] loss : 150.4410858154297\n",
      "[600] loss : 178.04165649414062\n",
      "[700] loss : 156.76803588867188\n",
      "[800] loss : 156.51998901367188\n",
      "[900] loss : 153.68597412109375\n",
      "[1000] loss : 153.26736450195312\n",
      "[1100] loss : 150.77259826660156\n",
      "[1200] loss : 152.75244140625\n",
      "[1300] loss : 150.82701110839844\n",
      "[1400] loss : 152.2942352294922\n",
      "[1500] loss : 152.25413513183594\n",
      "[1600] loss : 152.9546661376953\n",
      "[1700] loss : 151.0872039794922\n",
      "[1800] loss : 151.2337646484375\n",
      "[1900] loss : 151.1259002685547\n",
      "[2000] loss : 152.5985870361328\n",
      "[2100] loss : 151.6265106201172\n",
      "[2200] loss : 152.07591247558594\n",
      "[2300] loss : 153.12367248535156\n",
      "[2400] loss : 151.27267456054688\n",
      "[2500] loss : 151.3333740234375\n",
      "[2600] loss : 151.6221923828125\n",
      "[2700] loss : 151.5823516845703\n",
      "[2800] loss : 151.34034729003906\n",
      "[2900] loss : 151.36680603027344\n",
      "[3000] loss : 151.28477478027344\n",
      "[3100] loss : 151.4093017578125\n",
      "[3200] loss : 151.40335083007812\n",
      "[3300] loss : 151.46163940429688\n",
      "[3400] loss : 151.33433532714844\n",
      "[3500] loss : 151.4439697265625\n",
      "[3600] loss : 151.6501007080078\n",
      "[3700] loss : 151.55296325683594\n",
      "[3800] loss : 151.50634765625\n",
      "[3900] loss : 151.77403259277344\n",
      "LOC :  tensor(3.0198, requires_grad=True)\n",
      "SCALE :  tensor(0.1073, grad_fn=<AddBackward0>)\n"
     ]
    },
    {
     "data": {
      "image/png": "[encoded data removed]",
      "text/plain": [
       "<Figure size 432x288 with 1 Axes>"
      ]
     },
     "metadata": {},
     "output_type": "display_data"
    },
    {
     "data": {
      "image/png": "[encoded data removed]",
      "text/plain": [
       "<Figure size 432x288 with 1 Axes>"
      ]
     },
     "metadata": {},
     "output_type": "display_data"
    },
    {
     "data": {
      "image/png": "[encoded data removed]",
      "text/plain": [
       "<Figure size 432x288 with 1 Axes>"
      ]
     },
     "metadata": {},
     "output_type": "display_data"
    }
   ],
   "source": [
    "def generate_data():\n",
    "  return torch.randn(100) + 3\n",
    "\n",
    "\n",
    "if __name__ == '__main__':\n",
    "  # generate data\n",
    "  data = generate_data()\n",
    "  # true model\n",
    "  print('True model : Normal(3., 1.)')\n",
    "\n",
    "  def model(data):\n",
    "    z_loc = pyro.sample('z_loc', pdist.Normal(0., 1.))\n",
    "    # normally distributed observations\n",
    "    # for datapoint in data:\n",
    "    pyro.sample('obs', pdist.Normal(z_loc, 1.), obs=data)\n",
    "    # break\n",
    "\n",
    "  def guide(data):\n",
    "    # define parameters\n",
    "    #  loc and scale for latent variable `z_loc`\n",
    "    guide_loc = pyro.param('guide_loc', torch.tensor(0.))\n",
    "    guide_scale = pyro.param('guide_scale', torch.tensor(1.),\n",
    "        constraint=constraints.positive\n",
    "        )\n",
    "    # we would like to learn the distribution `loc`\n",
    "    pyro.sample('z_loc', pdist.Normal(guide_loc, guide_scale))\n",
    "\n",
    "  # clear parameter store\n",
    "  pyro.PARAM_STORE.clear()\n",
    "\n",
    "  # learning rate\n",
    "  lr = 0.01\n",
    "  # training steps\n",
    "  num_steps = 4000\n",
    "\n",
    "  # SVI for inference\n",
    "  svi = pyro.SVI(model, guide, optimizer=pyro.Adam({'lr' : lr}), loss_fn=pyro.elbo)\n",
    "\n",
    "  losses, z = [], []\n",
    "  for step in range(num_steps):\n",
    "    loss = svi.step(data)\n",
    "    losses.append(loss)\n",
    "    z.append(pyro.param('guide_loc').item())\n",
    "    if step % 100 == 0:\n",
    "      print('[{}] loss : {}'.format(step, loss))\n",
    "\n",
    "  print('LOC : ', pyro.param('guide_loc'))\n",
    "  print('SCALE : ', pyro.param('guide_scale'))\n",
    "\n",
    "  plots.elbo(losses)\n",
    "  plots.param(z, 3., name='z_mean')\n",
    "  plots.density_plot(\n",
    "      plots.sample_normal(\n",
    "        pyro.param('guide_loc').item(),\n",
    "        pyro.param('guide_scale').item(),\n",
    "        N=1000\n",
    "        )\n",
    "      )"
   ]
  },
  {
   "cell_type": "markdown",
   "metadata": {},
   "source": [
    "# Linear Regression"
   ]
  },
  {
   "cell_type": "code",
   "execution_count": 45,
   "metadata": {},
   "outputs": [
    {
     "name": "stderr",
     "output_type": "stream",
     "text": [
      "  1%|          | 38/5000 [00:00<00:13, 371.18it/s]"
     ]
    },
    {
     "name": "stdout",
     "output_type": "stream",
     "text": [
      "TRUE DISTRIBUTION : 2.0x + 1.0\n",
      "len(trainset) :  2\n"
     ]
    },
    {
     "name": "stderr",
     "output_type": "stream",
     "text": [
      "100%|██████████| 5000/5000 [00:11<00:00, 435.46it/s]\n"
     ]
    },
    {
     "name": "stdout",
     "output_type": "stream",
     "text": [
      "W(LOC) :  1.9820785522460938 0.132353737950325\n",
      "b(LOC) :  1.0160022974014282 0.06630779802799225\n"
     ]
    },
    {
     "data": {
      "image/png": "[encoded data removed]",
      "text/plain": [
       "<Figure size 432x288 with 1 Axes>"
      ]
     },
     "metadata": {},
     "output_type": "display_data"
    },
    {
     "data": {
      "image/png": "[encoded data removed]",
      "text/plain": [
       "<Figure size 432x288 with 1 Axes>"
      ]
     },
     "metadata": {},
     "output_type": "display_data"
    },
    {
     "data": {
      "image/png": "[encoded data removed]",
      "text/plain": [
       "<Figure size 432x288 with 1 Axes>"
      ]
     },
     "metadata": {},
     "output_type": "display_data"
    },
    {
     "data": {
      "image/png": "[encoded data removed]",
      "text/plain": [
       "<Figure size 432x288 with 1 Axes>"
      ]
     },
     "metadata": {},
     "output_type": "display_data"
    }
   ],
   "source": [
    "def random_sample(t, k):\n",
    "  x, y = t\n",
    "  indices = torch.randperm(len(x))\n",
    "  return x[indices][:k], y[indices][:k]\n",
    "\n",
    "\n",
    "def noisy():\n",
    "  x = torch.arange(-0.05, 0.2, 0.1)\n",
    "  w, b = 2., 1.\n",
    "  y = w * x + b + torch.normal(torch.tensor(0.), torch.tensor(0.01))\n",
    "  print('TRUE DISTRIBUTION : {w}x + {b}'.format(w=w, b=b))\n",
    "  x, y = random_sample((x, y), len(x))\n",
    "  k = int(len(x) * 0.8)\n",
    "\n",
    "  return (x[:k], y[:k]), (x[k:], y[k:])\n",
    "\n",
    "\n",
    "def model(x, y):\n",
    "  w = pyro.sample('w', pdist.Normal(0., 1.))\n",
    "  b = pyro.sample('b', pdist.Normal(0.5, 1.))\n",
    "  # define model\n",
    "  mean = w * x + b\n",
    "  # variance of distribution centered around y\n",
    "  # sigma = pyro.sample('sigma', pdist.Normal(0., 0.01))\n",
    "  pyro.sample('obs', pdist.Normal(mean, 0.01), obs=y)\n",
    "  return mean\n",
    "\n",
    "\n",
    "def guide(x, y):\n",
    "  # parameters of (w : weight)\n",
    "  w_loc = pyro.param('w_loc', torch.tensor(1.))\n",
    "  w_scale = pyro.param('w_scale', torch.tensor(1.),\n",
    "      constraint=constraints.positive\n",
    "      )\n",
    "  # parameters of (b : bias)\n",
    "  b_loc = pyro.param('b_loc', torch.tensor(0.))\n",
    "  b_scale = pyro.param('b_scale', torch.tensor(1.), constraint=constraints.positive)\n",
    "  # parameters of (sigma)\n",
    "  # sigma_loc = pyro.param('sigma_loc', torch.tensor(0.), constraint=constraints.positive)  # .exp()\n",
    "\n",
    "  # sample (w, b, sigma)\n",
    "  w = pyro.sample('w', pdist.Normal(w_loc, w_scale))\n",
    "  b = pyro.sample('b', pdist.Normal(b_loc, b_scale))\n",
    "  # sigma = pyro.sample('sigma', pdist.Normal(sigma_loc, torch.tensor(0.05)))\n",
    "\n",
    "\n",
    "def prob_forward(x):\n",
    "  w = tdist.Normal(pyro.param('w_loc'), pyro.param('w_scale'))\n",
    "  b = tdist.Normal(pyro.param('b_loc'), pyro.param('b_scale'))\n",
    "  return w.sample(x.size()) * x + b.sample(x.size())\n",
    "\n",
    "\n",
    "def sample_from_posterior(x, fwd, n=100):\n",
    "  return np.array([ fwd(x).detach().numpy().reshape(-1) for _ in range(n) ])\n",
    "\n",
    "\n",
    "if __name__ == '__main__':\n",
    "  # generate data\n",
    "  (train_x, train_y), (test_x, test_y) = noisy()\n",
    "  # num of data points\n",
    "  print('len(trainset) : ', len(train_x))\n",
    "\n",
    "  # clear parameter store\n",
    "  pyro.PARAM_STORE.clear()\n",
    "\n",
    "  # learning rate\n",
    "  lr = 0.005\n",
    "  # training steps\n",
    "  num_steps = 5000\n",
    "\n",
    "  # SVI for inference\n",
    "  svi = pyro.SVI(model, guide, optimizer=pyro.Adam({'lr' : lr}), loss_fn=pyro.elbo)\n",
    "\n",
    "  losses, w, b = [], [], []\n",
    "  for step in tqdm(range(num_steps)):\n",
    "    loss = svi.step(train_x, train_y)\n",
    "    # if step % 100 == 0:\n",
    "    losses.append(loss)\n",
    "    w.append(pyro.param('w_loc').item())\n",
    "    b.append(pyro.param('b_loc').item())\n",
    "\n",
    "    # if step % 100 == 0:\n",
    "    # print('[{}] loss : {}'.format(step, loss))\n",
    "\n",
    "  print('W(LOC) : ', pyro.param('w_loc').item(), pyro.param('w_scale').item())\n",
    "  print('b(LOC) : ', pyro.param('b_loc').item(), pyro.param('b_scale').item())\n",
    "\n",
    "  x_pred = torch.linspace(-2, 2, 100).reshape(-1, 1)\n",
    "  plots.posterior_predictive((train_x, train_y), x_pred,\n",
    "      sample_from_posterior(x_pred, prob_forward)\n",
    "      )\n",
    "\n",
    "  plots.param(w, 2., name='w')\n",
    "  plots.param(b, 1., name='b')\n",
    "  plots.density_plot(\n",
    "      plots.sample_normal(\n",
    "        pyro.param('w_loc').item(),\n",
    "        pyro.param('w_scale').item(),\n",
    "        N=1000\n",
    "        )\n",
    "      )"
   ]
  },
  {
   "cell_type": "markdown",
   "metadata": {},
   "source": [
    "# Bayesian Neural Network"
   ]
  },
  {
   "cell_type": "code",
   "execution_count": 44,
   "metadata": {},
   "outputs": [
    {
     "name": "stderr",
     "output_type": "stream",
     "text": [
      "  0%|          | 23/5000 [00:00<00:22, 217.40it/s]"
     ]
    },
    {
     "name": "stdout",
     "output_type": "stream",
     "text": [
      "len(trainset) :  6\n",
      "tensor([[0.0000],\n",
      "        [0.2000],\n",
      "        [0.4000],\n",
      "        [0.6000],\n",
      "        [0.8000],\n",
      "        [1.0000]]) tensor([[3.2000],\n",
      "        [3.4400],\n",
      "        [3.7600],\n",
      "        [4.1600],\n",
      "        [4.6400],\n",
      "        [5.2000]])\n"
     ]
    },
    {
     "name": "stderr",
     "output_type": "stream",
     "text": [
      "100%|██████████| 5000/5000 [00:20<00:00, 246.97it/s]\n"
     ]
    },
    {
     "data": {
      "image/png": "[encoded data removed]",
      "text/plain": [
       "<Figure size 432x288 with 1 Axes>"
      ]
     },
     "metadata": {},
     "output_type": "display_data"
    }
   ],
   "source": [
    "def toy_parabolic_fn(x):\n",
    "    return x**2 + x + 3.2\n",
    "\n",
    "\n",
    "def toy_parabolic_data(n):  # TODO : use `n`\n",
    "  # x = torch.tensor([-2, -1.8, -1, 1, 1.8, 2]).reshape(-1, 1)\n",
    "  # x = torch.arange(0., 1., 0.2).reshape(-1, 1)\n",
    "  x = torch.tensor([0., 0.2, 0.4, 0.6, 0.8, 1.]).reshape(-1, 1)\n",
    "  y = toy_parabolic_fn(x)\n",
    "  return x, y\n",
    "\n",
    "\n",
    "def model(x, y):\n",
    "  w1 = pyro.sample('w1', pdist.Normal(0., 1.))\n",
    "  b1 = pyro.sample('b1', pdist.Normal(0., 1.))\n",
    "  w2 = pyro.sample('w2', pdist.Normal(0., 1.))\n",
    "  b2 = pyro.sample('b2', pdist.Normal(0., 1.))\n",
    "  # define model\n",
    "  mean = w2 * torch.tanh(w1 * x + b1) + b2\n",
    "  pyro.sample('obs', pdist.Normal(mean, 0.01), obs=y)\n",
    "  return mean\n",
    "\n",
    "\n",
    "def guide(x, y):\n",
    "  # parameters of (w : weight)\n",
    "  w_loc_1 = pyro.param('w_loc_1', torch.tensor(0.))\n",
    "  w_scale_1 = pyro.param('w_scale_1', torch.tensor(1.),\n",
    "      constraint=constraints.positive\n",
    "      )\n",
    "  # parameters of (b : bias)\n",
    "  b_loc_1 = pyro.param('b_loc_1', torch.tensor(0.))\n",
    "  b_scale_1 = pyro.param('b_scale_1', torch.tensor(1.), constraint=constraints.positive)\n",
    "\n",
    "  w_loc_2 = pyro.param('w_loc_2', torch.tensor(0.))\n",
    "  w_scale_2 = pyro.param('w_scale_2', torch.tensor(1.),\n",
    "      constraint=constraints.positive\n",
    "      )\n",
    "  b_loc_2 = pyro.param('b_loc_2', torch.tensor(0.))\n",
    "  b_scale_2 = pyro.param('b_scale_2', torch.tensor(1.), constraint=constraints.positive)\n",
    "\n",
    "  w1 = pyro.sample('w1', pdist.Normal(w_loc_1, w_scale_1))\n",
    "  b1 = pyro.sample('b1', pdist.Normal(b_loc_1, b_scale_1))\n",
    "  w2 = pyro.sample('w2', pdist.Normal(w_loc_2, w_scale_2))\n",
    "  b2 = pyro.sample('b2', pdist.Normal(b_loc_2, b_scale_2))\n",
    "\n",
    "\n",
    "def prob_forward(x):\n",
    "  w1 = tdist.Normal(pyro.param('w_loc_1'), pyro.param('w_scale_1'))\n",
    "  b1 = tdist.Normal(pyro.param('b_loc_1'), pyro.param('b_scale_1'))\n",
    "  w2 = tdist.Normal(pyro.param('w_loc_2'), pyro.param('w_scale_2'))\n",
    "  b2 = tdist.Normal(pyro.param('b_loc_2'), pyro.param('b_scale_2'))\n",
    "  h1 = torch.tanh(w1.sample(x.size()) * x + b1.sample(x.size()))\n",
    "  return w2.sample(h1.size()) * h1 + b2.sample(h1.size())\n",
    "\n",
    "\n",
    "def sample_from_posterior(x, fwd, n=100):\n",
    "  return np.array([ fwd(x).detach().numpy().reshape(-1) for _ in range(n) ])\n",
    "\n",
    "\n",
    "if __name__ == '__main__':\n",
    "  # generate data\n",
    "  x, y = toy_parabolic_data(10)\n",
    "  # num of data points\n",
    "  print('len(trainset) : ', len(x))\n",
    "  print(x, y)\n",
    "\n",
    "  # clear parameter store\n",
    "  pyro.PARAM_STORE.clear()\n",
    "\n",
    "  # learning rate\n",
    "  lr = 0.008\n",
    "  # training steps\n",
    "  num_steps = 5000\n",
    "\n",
    "  # SVI for inference\n",
    "  svi = pyro.SVI(model, guide, optimizer=pyro.Adam({'lr' : lr}), loss_fn=pyro.elbo)\n",
    "\n",
    "  losses, w, b = [], [], []\n",
    "  for step in tqdm(range(num_steps)):\n",
    "    loss = svi.step(x, y)\n",
    "    losses.append(loss)\n",
    "\n",
    "    # if step % 100 == 0:\n",
    "    # print('[{}] loss : {}'.format(step, loss))\n",
    "\n",
    "  x_pred = torch.linspace(-2, 2, 1000).reshape(-1, 1)\n",
    "  plots.posterior_predictive((x, y), x_pred,\n",
    "      sample_from_posterior(x_pred, prob_forward)\n",
    "      )"
   ]
  },
  {
   "cell_type": "markdown",
   "metadata": {},
   "source": [
    "# Logistic Regression"
   ]
  },
  {
   "cell_type": "code",
   "execution_count": 56,
   "metadata": {},
   "outputs": [
    {
     "name": "stderr",
     "output_type": "stream",
     "text": [
      "100%|██████████| 2000/2000 [00:05<00:00, 399.81it/s]\n",
      "/usr/local/lib/python3.6/site-packages/ipykernel_launcher.py:112: UserWarning: To copy construct from a tensor, it is recommended to use sourceTensor.clone().detach() or sourceTensor.clone().detach().requires_grad_(True), rather than torch.tensor(sourceTensor).\n"
     ]
    },
    {
     "name": "stdout",
     "output_type": "stream",
     "text": [
      "w : tensor([-0.2985, -1.1911,  1.7610,  1.8509], requires_grad=True); b : -0.4941481053829193\n",
      "[1.0] 995/1000 with 99.5% certainty\n",
      "[0.0] 981/1000 with 98.1% certainty\n",
      "[1.0] 989/1000 with 98.9% certainty\n",
      "[0.0] 993/1000 with 99.3% certainty\n",
      "[1.0] 999/1000 with 99.9% certainty\n",
      "[0.0] 997/1000 with 99.7% certainty\n",
      "[1.0] 996/1000 with 99.6% certainty\n",
      "[1.0] 997/1000 with 99.7% certainty\n",
      "[0.0] 932/1000 with 93.2% certainty\n",
      "[0.0] 996/1000 with 99.6% certainty\n",
      "[0.0] 982/1000 with 98.2% certainty\n",
      "[1.0] 994/1000 with 99.4% certainty\n",
      "[1.0] 999/1000 with 99.9% certainty\n",
      "[1.0] 993/1000 with 99.3% certainty\n"
     ]
    }
   ],
   "source": [
    "def iris(datafile='examples/iris.data'):\n",
    "  # label to index lookup\n",
    "  # label2idx = { 'Iris-setosa' : 0, 'Iris-versicolor' : 1, 'Iris-virginica' : 2 }\n",
    "  label2idx = { 'Iris-setosa' : 0, 'Iris-versicolor' : 1 }\n",
    "  lines = [ l.replace('\\n', '').strip() for l in open(datafile).readlines() ]\n",
    "  # shuffle lines\n",
    "  shuffle(lines)\n",
    "  features, labels = [], []\n",
    "  for line in lines:\n",
    "    # super-annoying empty last line\n",
    "    if not line:\n",
    "      break\n",
    "\n",
    "    items = line.split(',')\n",
    "    label = items[-1]\n",
    "\n",
    "    # check if label is in label2idx\n",
    "    if label not in label2idx:\n",
    "      continue\n",
    "\n",
    "    features.append([ float(i) for i in items[:-1] ])\n",
    "    labels.append(label2idx[label])\n",
    "\n",
    "  # train/test separation\n",
    "  k = int(0.8 * len(features))\n",
    "  train_x, train_y = features[:k], labels[:k]\n",
    "  test_x, test_y = features[k:], labels[k:]\n",
    "  # convenience\n",
    "  t = torch.tensor\n",
    "\n",
    "  return (\n",
    "      ( t(train_x), t(train_y).float() ),\n",
    "      ( t(test_x), t(test_y).float() )\n",
    "      )\n",
    "\n",
    "\n",
    "def model(x, y):\n",
    "  w = pyro.sample('w', pdist.Normal(torch.zeros(4), torch.ones(4)))\n",
    "  b = pyro.sample('b', pdist.Normal(0., 1.))\n",
    "\n",
    "  # define logistic regression model\n",
    "  y_hat = torch.sigmoid((w * x).sum(dim=1) + b)\n",
    "\n",
    "  # variance of distribution centered around y\n",
    "  # sigma = pyro.sample('sigma', pdist.Normal(0., 0.01))\n",
    "\n",
    "  pyro.sample('obs', pdist.Bernoulli(y_hat), obs=y)\n",
    "\n",
    "\n",
    "def guide(x, y):\n",
    "  # parameters of (w : weight)\n",
    "  w_loc = pyro.param('w_loc', torch.zeros(4))\n",
    "  w_scale = pyro.param('w_scale', torch.ones(4),\n",
    "      constraint=constraints.positive\n",
    "      )\n",
    "  # parameters of (b : bias)\n",
    "  b_loc = pyro.param('b_loc', torch.tensor(0.))\n",
    "  b_scale = pyro.param('b_scale', torch.tensor(1.), constraint=constraints.positive)\n",
    "\n",
    "  w = pyro.sample('w', pdist.Normal(w_loc, w_scale))\n",
    "  b = pyro.sample('b', pdist.Normal(b_loc, b_scale))\n",
    "\n",
    "\n",
    "def prob_forward(x):\n",
    "  w = tdist.Normal(pyro.param('w_loc'), pyro.param('w_scale'))\n",
    "  b = tdist.Normal(pyro.param('b_loc'), pyro.param('b_scale'))\n",
    "  return torch.sigmoid((w.sample([1]) * x).sum() + b.sample([1]))\n",
    "\n",
    "\n",
    "def sample_from_posterior(x, fwd, n=100):\n",
    "  return np.array([ fwd(x).detach().numpy().reshape(-1) for _ in range(n) ])\n",
    "\n",
    "\n",
    "if __name__ == '__main__':\n",
    "  # generate data\n",
    "  (train_x, train_y), (test_x, test_y) = iris()\n",
    "\n",
    "  # clear parameter store\n",
    "  pyro.PARAM_STORE.clear()\n",
    "\n",
    "  # learning rate\n",
    "  lr = 0.005\n",
    "  # training steps\n",
    "  num_steps = 2000\n",
    "\n",
    "  # SVI for inference\n",
    "  svi = pyro.SVI(model, guide, optimizer=pyro.Adam({'lr' : lr}), loss_fn=pyro.elbo)\n",
    "\n",
    "  losses, w, b = [], [], []\n",
    "  for step in tqdm(range(num_steps)):\n",
    "    loss = svi.step(train_x, train_y)\n",
    "    # if step % 100 == 0:\n",
    "    losses.append(loss)\n",
    "    w.append(pyro.param('w_loc').data.numpy())\n",
    "    b.append(pyro.param('b_loc').item())\n",
    "\n",
    "    # if step % 100 == 0:\n",
    "    # print('[{}] loss : {}'.format(step, loss))\n",
    "\n",
    "  w_ps = pyro.param('w_loc')\n",
    "  b_ps = pyro.param('b_loc')\n",
    "\n",
    "  print('w : {}; b : {}'.format(w_ps, b_ps))\n",
    "\n",
    "  def predict(x):\n",
    "    x = torch.tensor(x)\n",
    "    return torch.sigmoid((w_ps * x).sum() + b_ps)\n",
    "\n",
    "  correcto = 0\n",
    "  for xi, yi in zip(test_x, test_y):\n",
    "    num_samples = 1000\n",
    "    samples = sample_from_posterior(torch.tensor(xi).view(1, -1),\n",
    "        prob_forward, num_samples)\n",
    "    correcto = (((samples > 0.5) == yi.item()).sum())\n",
    "    print('[{}] {}/{} with {}% certainty'.format(yi, correcto, num_samples,\n",
    "      100. * correcto / num_samples))"
   ]
  }
 ],
 "metadata": {
  "kernelspec": {
   "display_name": "Python 3",
   "language": "python",
   "name": "python3"
  },
  "language_info": {
   "codemirror_mode": {
    "name": "ipython",
    "version": 3
   },
   "file_extension": ".py",
   "mimetype": "text/x-python",
   "name": "python",
   "nbconvert_exporter": "python",
   "pygments_lexer": "ipython3",
   "version": "3.6.5"
  }
 },
 "nbformat": 4,
 "nbformat_minor": 2
}
