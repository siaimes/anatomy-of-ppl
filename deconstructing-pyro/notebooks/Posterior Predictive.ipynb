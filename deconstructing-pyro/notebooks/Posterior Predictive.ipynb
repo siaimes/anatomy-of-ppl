{
 "cells": [
  {
   "cell_type": "markdown",
   "metadata": {},
   "source": [
    "# Posterior Predictive"
   ]
  },
  {
   "cell_type": "code",
   "execution_count": 3,
   "metadata": {},
   "outputs": [],
   "source": [
    "\"\"\"Bayesian Linear Regression\"\"\"\n",
    "import minipyro as pyro\n",
    "import torch\n",
    "\n",
    "from torch.distributions import constraints\n",
    "import pyro.distributions as pdist\n",
    "\n",
    "import plots"
   ]
  },
  {
   "cell_type": "code",
   "execution_count": 99,
   "metadata": {},
   "outputs": [],
   "source": [
    "def random_sample(t, k):\n",
    "  x, y = t\n",
    "  indices = torch.randperm(len(x))\n",
    "  return x[indices][:k], y[indices][:k]\n",
    "\n",
    "\n",
    "def noisy():\n",
    "  x = torch.arange(-2, 2, 0.01)\n",
    "  w, b = 2., 1.\n",
    "  # y = w * x + b + torch.normal(torch.tensor(0.), torch.tensor(1.))\n",
    "  print('TRUE DISTRIBUTION : {w}x + {b}'.format(w=w, b=b))\n",
    "  x, y = random_sample((x, y), len(x))\n",
    "  k = int(len(x) * 0.8)\n",
    "\n",
    "  return (x[:k], y[:k]), (x[k:], y[k:])\n",
    "\n",
    "\n",
    "def model(x, y):\n",
    "  w = pyro.sample('w', pdist.Normal(0., 1.))\n",
    "  b = pyro.sample('b', pdist.Normal(0.5, 1.))\n",
    "  # define model\n",
    "  mean = w * x + b\n",
    "  # mean = w * x + 0.3\n",
    "  # variance of distribution centered around y\n",
    "  # sigma = pyro.sample('sigma', pdist.Normal(0., 0.01))\n",
    "  pyro.sample('obs', pdist.Normal(mean, 0.01), obs=y)\n",
    "  return mean\n",
    "\n",
    "\n",
    "def guide(x, y):\n",
    "  # parameters of (w : weight)\n",
    "  w_loc = pyro.param('w_loc', torch.tensor(1.))\n",
    "  w_scale = pyro.param('w_scale', torch.tensor(1.),\n",
    "      constraint=constraints.positive\n",
    "      )\n",
    "  # parameters of (b : bias)\n",
    "  b_loc = pyro.param('b_loc', torch.tensor(0.))\n",
    "  b_scale = pyro.param('b_scale', torch.tensor(1.), constraint=constraints.positive)\n",
    "  # parameters of (sigma)\n",
    "  # sigma_loc = pyro.param('sigma_loc', torch.tensor(0.), constraint=constraints.positive)  # .exp()\n",
    "\n",
    "  # sample (w, b, sigma)\n",
    "  w = pyro.sample('w', pdist.Normal(w_loc, w_scale))\n",
    "  b = pyro.sample('b', pdist.Normal(b_loc, b_scale))\n",
    "  # sigma = pyro.sample('sigma', pdist.Normal(sigma_loc, torch.tensor(0.05)))"
   ]
  },
  {
   "cell_type": "code",
   "execution_count": 100,
   "metadata": {},
   "outputs": [
    {
     "name": "stdout",
     "output_type": "stream",
     "text": [
      "TRUE DISTRIBUTION : 2.0x + 1.0\n",
      "W(LOC) :  2.0033202171325684 0.05776231363415718\n",
      "b(LOC) :  1.843946933746338 0.06792589277029037\n"
     ]
    },
    {
     "data": {
      "image/png": "[encoded data removed]",
      "text/plain": [
       "<Figure size 432x288 with 1 Axes>"
      ]
     },
     "metadata": {},
     "output_type": "display_data"
    }
   ],
   "source": [
    "# generate data\n",
    "(train_x, train_y), (test_x, test_y) = noisy()\n",
    "\n",
    "# clear parameter store\n",
    "pyro.PARAM_STORE.clear()\n",
    "\n",
    "# learning rate\n",
    "lr = 0.005\n",
    "# training steps\n",
    "num_steps = 5000\n",
    "\n",
    "# SVI for inference\n",
    "svi = pyro.SVI(model, guide, optimizer=pyro.Adam({'lr' : lr}), loss_fn=pyro.elbo)\n",
    "\n",
    "losses, w, b = [], [], []\n",
    "for step in range(num_steps):\n",
    "    loss = svi.step(train_x, train_y)\n",
    "    # if step % 100 == 0:\n",
    "    losses.append(loss)\n",
    "    w.append(pyro.param('w_loc').item())\n",
    "    b.append(pyro.param('b_loc').item())\n",
    "\n",
    "# if step % 100 == 0:\n",
    "#   print('[{}] loss : {}'.format(step, loss))\n",
    "\n",
    "print('W(LOC) : ', pyro.param('w_loc').item(), pyro.param('w_scale').item())\n",
    "print('b(LOC) : ', pyro.param('b_loc').item(), pyro.param('b_scale').item())\n",
    "# print('sigma(LOC) : ', pyro.param('sigma_loc').item())\n",
    "\n",
    "# plots.elbo(losses)\n",
    "# plots.param(w, 2., name='w')\n",
    "# plots.param(b, 1., name='b')\n",
    "plots.density_plot(\n",
    "  plots.sample_normal(\n",
    "    pyro.param('w_loc').item(),\n",
    "    pyro.param('w_scale').item(),\n",
    "    N=1000\n",
    "    )\n",
    "  )"
   ]
  },
  {
   "cell_type": "code",
   "execution_count": 9,
   "metadata": {},
   "outputs": [],
   "source": [
    "import torch.distributions as tdist"
   ]
  },
  {
   "cell_type": "code",
   "execution_count": 101,
   "metadata": {},
   "outputs": [],
   "source": [
    "def prob_forward(x):\n",
    "    w = tdist.Normal(pyro.param('w_loc'), pyro.param('w_scale'))\n",
    "    b = tdist.Normal(pyro.param('b_loc'), pyro.param('b_scale'))\n",
    "    return w.sample(x.size()) * x + b.sample(x.size())"
   ]
  },
  {
   "cell_type": "code",
   "execution_count": 102,
   "metadata": {},
   "outputs": [],
   "source": [
    "predictions = prob_forward(train_x[:10])"
   ]
  },
  {
   "cell_type": "code",
   "execution_count": 114,
   "metadata": {},
   "outputs": [],
   "source": [
    "samples = 100\n",
    "x_tmp = torch.linspace(-2, 2, 100).reshape(-1, 1)\n",
    "y_samp = np.zeros((samples, 100))\n",
    "for s in range(samples):\n",
    "    y_tmp = prob_forward(x_tmp).detach().numpy()\n",
    "    y_samp[s] = y_tmp.reshape(-1)"
   ]
  },
  {
   "cell_type": "code",
   "execution_count": 48,
   "metadata": {},
   "outputs": [],
   "source": [
    "import matplotlib.pyplot as plt\n",
    "plt.style.use('ggplot')"
   ]
  },
  {
   "cell_type": "code",
   "execution_count": 123,
   "metadata": {},
   "outputs": [
    {
     "data": {
      "text/plain": [
       "<matplotlib.collections.PathCollection at 0x12dada6a0>"
      ]
     },
     "execution_count": 123,
     "metadata": {},
     "output_type": "execute_result"
    },
    {
     "data": {
      "image/png": "[encoded data removed]",
      "text/plain": [
       "<Figure size 432x288 with 1 Axes>"
      ]
     },
     "metadata": {},
     "output_type": "display_data"
    }
   ],
   "source": [
    "plt.plot(x_tmp.numpy(), np.mean(y_samp, axis=0), label='Mean Posterior Predictive')\n",
    "plt.fill_between(\n",
    "    x_tmp.numpy().reshape(-1),\n",
    "    np.percentile(y_samp, 0., axis=0),\n",
    "    np.percentile(y_samp, 99.5, axis = 0),\n",
    "    alpha = 0.5, label='95% Confidence'\n",
    ")\n",
    "plt.scatter(train_x[:80], train_y[:80], s=12)"
   ]
  },
  {
   "cell_type": "code",
   "execution_count": null,
   "metadata": {},
   "outputs": [],
   "source": []
  },
  {
   "cell_type": "code",
   "execution_count": null,
   "metadata": {},
   "outputs": [],
   "source": []
  },
  {
   "cell_type": "code",
   "execution_count": null,
   "metadata": {},
   "outputs": [],
   "source": []
  },
  {
   "cell_type": "code",
   "execution_count": null,
   "metadata": {},
   "outputs": [],
   "source": []
  },
  {
   "cell_type": "code",
   "execution_count": null,
   "metadata": {},
   "outputs": [],
   "source": []
  },
  {
   "cell_type": "code",
   "execution_count": null,
   "metadata": {},
   "outputs": [],
   "source": []
  },
  {
   "cell_type": "code",
   "execution_count": null,
   "metadata": {},
   "outputs": [],
   "source": []
  },
  {
   "cell_type": "code",
   "execution_count": null,
   "metadata": {},
   "outputs": [],
   "source": []
  },
  {
   "cell_type": "code",
   "execution_count": null,
   "metadata": {},
   "outputs": [],
   "source": []
  },
  {
   "cell_type": "code",
   "execution_count": null,
   "metadata": {},
   "outputs": [],
   "source": []
  },
  {
   "cell_type": "code",
   "execution_count": null,
   "metadata": {},
   "outputs": [],
   "source": []
  },
  {
   "cell_type": "code",
   "execution_count": null,
   "metadata": {},
   "outputs": [],
   "source": []
  },
  {
   "cell_type": "code",
   "execution_count": null,
   "metadata": {},
   "outputs": [],
   "source": []
  },
  {
   "cell_type": "code",
   "execution_count": null,
   "metadata": {},
   "outputs": [],
   "source": []
  },
  {
   "cell_type": "code",
   "execution_count": null,
   "metadata": {},
   "outputs": [],
   "source": []
  },
  {
   "cell_type": "code",
   "execution_count": null,
   "metadata": {},
   "outputs": [],
   "source": []
  },
  {
   "cell_type": "code",
   "execution_count": null,
   "metadata": {},
   "outputs": [],
   "source": []
  }
 ],
 "metadata": {
  "kernelspec": {
   "display_name": "Python 3",
   "language": "python",
   "name": "python3"
  },
  "language_info": {
   "codemirror_mode": {
    "name": "ipython",
    "version": 3
   },
   "file_extension": ".py",
   "mimetype": "text/x-python",
   "name": "python",
   "nbconvert_exporter": "python",
   "pygments_lexer": "ipython3",
   "version": "3.6.5"
  }
 },
 "nbformat": 4,
 "nbformat_minor": 2
}
