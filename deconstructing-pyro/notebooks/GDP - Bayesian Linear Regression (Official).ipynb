{
 "cells": [
  {
   "cell_type": "code",
   "execution_count": 2,
   "metadata": {},
   "outputs": [],
   "source": [
    "import os\n",
    "from functools import partial\n",
    "import numpy as np\n",
    "import pandas as pd\n",
    "import seaborn as sns\n",
    "import torch\n",
    "import torch.nn as nn\n",
    "\n",
    "import matplotlib.pyplot as plt\n",
    "\n",
    "import pyro\n",
    "from pyro.distributions import Normal, Uniform, Delta\n",
    "from pyro.infer import SVI, Trace_ELBO\n",
    "from pyro.optim import Adam\n",
    "from pyro.distributions.util import logsumexp\n",
    "from pyro.infer import EmpiricalMarginal, SVI, Trace_ELBO, TracePredictive\n",
    "from pyro.infer.mcmc import MCMC, NUTS\n",
    "import pyro.optim as optim\n",
    "import pyro.poutine as poutine\n",
    "\n",
    "# for CI testing\n",
    "smoke_test = ('CI' in os.environ)\n",
    "pyro.enable_validation(True)\n",
    "pyro.set_rng_seed(1)\n",
    "pyro.enable_validation(True)"
   ]
  },
  {
   "cell_type": "code",
   "execution_count": 3,
   "metadata": {},
   "outputs": [],
   "source": [
    "DATA_URL = \"https://d2fefpcigoriu7.cloudfront.net/datasets/rugged_data.csv\"\n",
    "data = pd.read_csv(DATA_URL, encoding=\"ISO-8859-1\")\n",
    "df = data[[\"cont_africa\", \"rugged\", \"rgdppc_2000\"]]\n",
    "df = df[np.isfinite(df.rgdppc_2000)]\n",
    "df[\"rgdppc_2000\"] = np.log(df[\"rgdppc_2000\"])"
   ]
  },
  {
   "cell_type": "code",
   "execution_count": 4,
   "metadata": {},
   "outputs": [
    {
     "data": {
      "text/plain": [
       "[Text(0, 0.5, 'log GDP (2000)'),\n",
       " Text(0.5, 0, 'Terrain Ruggedness Index'),\n",
       " Text(0.5, 1.0, 'African Nations')]"
      ]
     },
     "execution_count": 4,
     "metadata": {},
     "output_type": "execute_result"
    },
    {
     "data": {
      "image/png": "[encoded data removed]",
      "text/plain": [
       "<Figure size 864x432 with 2 Axes>"
      ]
     },
     "metadata": {},
     "output_type": "display_data"
    }
   ],
   "source": [
    "fig, ax = plt.subplots(nrows=1, ncols=2, figsize=(12, 6), sharey=True)\n",
    "african_nations = data[data[\"cont_africa\"] == 1]\n",
    "non_african_nations = data[data[\"cont_africa\"] == 0]\n",
    "sns.scatterplot(non_african_nations[\"rugged\"],\n",
    "            np.log(non_african_nations[\"rgdppc_2000\"]),\n",
    "            ax=ax[0])\n",
    "ax[0].set(xlabel=\"Terrain Ruggedness Index\",\n",
    "          ylabel=\"log GDP (2000)\",\n",
    "          title=\"Non African Nations\")\n",
    "sns.scatterplot(african_nations[\"rugged\"],\n",
    "            np.log(african_nations[\"rgdppc_2000\"]),\n",
    "            ax=ax[1])\n",
    "ax[1].set(xlabel=\"Terrain Ruggedness Index\",\n",
    "          ylabel=\"log GDP (2000)\",\n",
    "          title=\"African Nations\")"
   ]
  },
  {
   "cell_type": "code",
   "execution_count": 5,
   "metadata": {},
   "outputs": [],
   "source": [
    "class RegressionModel(nn.Module):\n",
    "    def __init__(self, p):\n",
    "        # p = number of features\n",
    "        super(RegressionModel, self).__init__()\n",
    "        self.linear = nn.Linear(p, 1)\n",
    "        self.factor = nn.Parameter(torch.tensor(1.))\n",
    "\n",
    "    def forward(self, x):\n",
    "        return self.linear(x) + (self.factor * x[:, 0] * x[:, 1]).unsqueeze(1)\n",
    "\n",
    "p = 2  # number of features\n",
    "regression_model = RegressionModel(p)"
   ]
  },
  {
   "cell_type": "code",
   "execution_count": 6,
   "metadata": {},
   "outputs": [],
   "source": [
    "def model(x_data, y_data):\n",
    "    # weight and bias priors\n",
    "    w_prior = Normal(torch.zeros(1, 2), torch.ones(1, 2)).to_event(1)\n",
    "    b_prior = Normal(torch.tensor([[8.]]), torch.tensor([[1000.]])).to_event(1)\n",
    "    f_prior = Normal(0., 1.)\n",
    "    priors = {'linear.weight': w_prior, 'linear.bias': b_prior, 'factor': f_prior}\n",
    "    scale = pyro.sample(\"sigma\", Uniform(0., 10.))\n",
    "    # lift module parameters to random variables sampled from the priors\n",
    "    lifted_module = pyro.random_module(\"module\", regression_model, priors)\n",
    "    # sample a nn (which also samples w and b)\n",
    "    lifted_reg_model = lifted_module()\n",
    "    with pyro.plate(\"map\", len(x_data)):\n",
    "        # run the nn forward on data\n",
    "        prediction_mean = lifted_reg_model(x_data).squeeze(-1)\n",
    "        # condition on the observed data\n",
    "        pyro.sample(\"obs\",\n",
    "                    Normal(prediction_mean, scale),\n",
    "                    obs=y_data)\n",
    "        return prediction_mean\n"
   ]
  },
  {
   "cell_type": "code",
   "execution_count": 7,
   "metadata": {},
   "outputs": [],
   "source": [
    "from pyro.contrib.autoguide import AutoDiagonalNormal\n",
    "guide = AutoDiagonalNormal(model)"
   ]
  },
  {
   "cell_type": "code",
   "execution_count": 8,
   "metadata": {},
   "outputs": [],
   "source": [
    "optim = Adam({\"lr\": 0.03})\n",
    "svi = SVI(model, guide, optim, loss=Trace_ELBO(), num_samples=1000)"
   ]
  },
  {
   "cell_type": "code",
   "execution_count": 11,
   "metadata": {},
   "outputs": [
    {
     "name": "stdout",
     "output_type": "stream",
     "text": [
      "[iteration 0001] loss: 18.3907\n",
      "[iteration 0101] loss: 3.1146\n",
      "[iteration 0201] loss: 3.1067\n",
      "[iteration 0301] loss: 2.8602\n",
      "[iteration 0401] loss: 2.7770\n",
      "[iteration 0501] loss: 2.6181\n",
      "[iteration 0601] loss: 2.4298\n",
      "[iteration 0701] loss: 2.0160\n",
      "[iteration 0801] loss: 1.7814\n",
      "[iteration 0901] loss: 1.5811\n"
     ]
    }
   ],
   "source": [
    "num_iterations = 1000\n",
    "data = torch.tensor(df.values, dtype=torch.float)\n",
    "x_data, y_data = data[:, :-1], data[:, -1]\n",
    "\n",
    "def train():\n",
    "    pyro.clear_param_store()\n",
    "    for j in range(num_iterations):\n",
    "        # calculate the loss and take a gradient step\n",
    "        loss = svi.step(x_data, y_data)\n",
    "        if j % 100 == 0:\n",
    "            print(\"[iteration %04d] loss: %.4f\" % (j + 1, loss / len(data)))\n",
    "\n",
    "train()"
   ]
  },
  {
   "cell_type": "code",
   "execution_count": 12,
   "metadata": {},
   "outputs": [],
   "source": [
    "get_marginal = lambda traces, sites:EmpiricalMarginal(traces, sites)._get_samples_and_weights()[0].detach().cpu().numpy()\n",
    "\n",
    "def summary(traces, sites):\n",
    "    marginal = get_marginal(traces, sites)\n",
    "    site_stats = {}\n",
    "    for i in range(marginal.shape[1]):\n",
    "        site_name = sites[i]\n",
    "        marginal_site = pd.DataFrame(marginal[:, i]).transpose()\n",
    "        describe = partial(pd.Series.describe, percentiles=[.05, 0.25, 0.5, 0.75, 0.95])\n",
    "        site_stats[site_name] = marginal_site.apply(describe, axis=1) \\\n",
    "            [[\"mean\", \"std\", \"5%\", \"25%\", \"50%\", \"75%\", \"95%\"]]\n",
    "    return site_stats\n",
    "\n",
    "def wrapped_model(x_data, y_data):\n",
    "    pyro.sample(\"prediction\", Delta(model(x_data, y_data)))\n",
    "\n",
    "posterior = svi.run(x_data, y_data)\n"
   ]
  },
  {
   "cell_type": "code",
   "execution_count": 28,
   "metadata": {},
   "outputs": [],
   "source": [
    "eesh = EmpiricalMarginal(trace_pred, ['obs'])._get_samples_and_weights()[0].data.numpy()"
   ]
  },
  {
   "cell_type": "code",
   "execution_count": 29,
   "metadata": {},
   "outputs": [
    {
     "data": {
      "text/plain": [
       "(1000, 1, 170)"
      ]
     },
     "execution_count": 29,
     "metadata": {},
     "output_type": "execute_result"
    }
   ],
   "source": [
    "eesh.shape"
   ]
  },
  {
   "cell_type": "code",
   "execution_count": 13,
   "metadata": {},
   "outputs": [],
   "source": [
    "# posterior predictive distribution we can get samples from\n",
    "trace_pred = TracePredictive(wrapped_model,\n",
    "                             posterior,\n",
    "                             num_samples=1000)\n",
    "post_pred = trace_pred.run(x_data, None)\n",
    "post_summary = summary(post_pred, sites= ['prediction', 'obs'])\n",
    "mu = post_summary[\"prediction\"]\n",
    "y = post_summary[\"obs\"]\n",
    "predictions = pd.DataFrame({\n",
    "    \"cont_africa\": x_data[:, 0],\n",
    "    \"rugged\": x_data[:, 1],\n",
    "    \"mu_mean\": mu[\"mean\"],\n",
    "    \"mu_perc_5\": mu[\"5%\"],\n",
    "    \"mu_perc_95\": mu[\"95%\"],\n",
    "    \"y_mean\": y[\"mean\"],\n",
    "    \"y_perc_5\": y[\"5%\"],\n",
    "    \"y_perc_95\": y[\"95%\"],\n",
    "    \"true_gdp\": y_data,\n",
    "})"
   ]
  },
  {
   "cell_type": "code",
   "execution_count": 42,
   "metadata": {},
   "outputs": [
    {
     "data": {
      "text/plain": [
       "(0      7.044759\n",
       " 1      8.283705\n",
       " 2      8.873914\n",
       " 3      8.872734\n",
       " 4      8.464744\n",
       " 5      9.008384\n",
       " 6      8.989214\n",
       " 7      8.260653\n",
       " 8      8.693095\n",
       " 9      7.091609\n",
       " 10     8.945599\n",
       " 11     7.007421\n",
       " 12     7.010370\n",
       " 13     8.981010\n",
       " 14     8.731427\n",
       " 15     8.974326\n",
       " 16     9.002537\n",
       " 17     8.547948\n",
       " 18     8.984230\n",
       " 19     8.905856\n",
       " 20     8.857015\n",
       " 21     8.972651\n",
       " 22     8.833152\n",
       " 23     7.008157\n",
       " 24     7.008443\n",
       " 25     8.872734\n",
       " 26     7.952500\n",
       " 27     8.510318\n",
       " 28     8.645457\n",
       " 29     7.009037\n",
       "          ...   \n",
       " 140    8.712105\n",
       " 141    8.506815\n",
       " 142    8.882976\n",
       " 143    7.059386\n",
       " 144    7.029370\n",
       " 145    8.876467\n",
       " 146    7.025691\n",
       " 147    7.014638\n",
       " 148    8.814428\n",
       " 149    7.815943\n",
       " 150    8.964839\n",
       " 151    8.873127\n",
       " 152    8.906642\n",
       " 153    7.033745\n",
       " 154    8.479100\n",
       " 155    7.029828\n",
       " 156    7.048440\n",
       " 157    8.940595\n",
       " 158    8.936818\n",
       " 159    8.809204\n",
       " 160    8.918689\n",
       " 161    8.371668\n",
       " 162    8.900506\n",
       " 163    8.604439\n",
       " 164    8.681225\n",
       " 165    8.691898\n",
       " 166    8.544930\n",
       " 167    7.091566\n",
       " 168    7.026099\n",
       " 169    7.083183\n",
       " Name: 5%, Length: 170, dtype: float64, 0      7.714053\n",
       " 1      8.999964\n",
       " 2      9.222194\n",
       " 3      9.221243\n",
       " 4      9.038579\n",
       " 5      9.330056\n",
       " 6      9.306119\n",
       " 7      8.995652\n",
       " 8      9.124644\n",
       " 9      7.953751\n",
       " 10     9.271257\n",
       " 11     7.576499\n",
       " 12     7.593089\n",
       " 13     9.298527\n",
       " 14     9.142866\n",
       " 15     9.292447\n",
       " 16     9.323912\n",
       " 17     9.074955\n",
       " 18     9.302411\n",
       " 19     9.250360\n",
       " 20     9.212948\n",
       " 21     9.291442\n",
       " 22     9.198748\n",
       " 23     7.587121\n",
       " 24     7.591370\n",
       " 25     9.221243\n",
       " 26     8.912406\n",
       " 27     9.057749\n",
       " 28     9.105421\n",
       " 29     7.593628\n",
       "          ...   \n",
       " 140    9.137746\n",
       " 141    9.056904\n",
       " 142    9.230165\n",
       " 143    8.317618\n",
       " 144    8.860946\n",
       " 145    9.224253\n",
       " 146    7.625781\n",
       " 147    7.601421\n",
       " 148    9.183594\n",
       " 149    8.879945\n",
       " 150    9.284481\n",
       " 151    9.221560\n",
       " 152    9.250525\n",
       " 153    7.691473\n",
       " 154    9.045063\n",
       " 155    7.677190\n",
       " 156    7.723484\n",
       " 157    9.267297\n",
       " 158    9.266185\n",
       " 159    9.181637\n",
       " 160    9.260859\n",
       " 161    9.016634\n",
       " 162    9.245058\n",
       " 163    9.093286\n",
       " 164    9.119315\n",
       " 165    9.124176\n",
       " 166    9.073485\n",
       " 167    7.948483\n",
       " 168    7.644521\n",
       " 169    7.791257\n",
       " Name: 95%, Length: 170, dtype: float64)"
      ]
     },
     "execution_count": 42,
     "metadata": {},
     "output_type": "execute_result"
    }
   ],
   "source": [
    "mu[\"5%\"], mu[\"95%\"]"
   ]
  },
  {
   "cell_type": "code",
   "execution_count": 15,
   "metadata": {},
   "outputs": [],
   "source": [
    "plt.style.use('ggplot')"
   ]
  },
  {
   "cell_type": "code",
   "execution_count": 21,
   "metadata": {},
   "outputs": [
    {
     "data": {
      "text/plain": [
       "(41     9.008845\n",
       " 85     9.008384\n",
       " 5      9.008384\n",
       " 136    9.006881\n",
       " 115    9.004335\n",
       " 16     9.002537\n",
       " 49     8.992752\n",
       " 6      8.989214\n",
       " 95     8.986918\n",
       " 18     8.984230\n",
       " 93     8.982196\n",
       " 13     8.981010\n",
       " 42     8.980686\n",
       " 15     8.974326\n",
       " 21     8.972651\n",
       " 128    8.971848\n",
       " 87     8.971848\n",
       " 65     8.966831\n",
       " 150    8.964839\n",
       " 125    8.961878\n",
       " 51     8.956032\n",
       " 70     8.952637\n",
       " 81     8.948458\n",
       " 10     8.945599\n",
       " 157    8.940595\n",
       " 158    8.936818\n",
       " 73     8.921140\n",
       " 160    8.918689\n",
       " 84     8.916048\n",
       " 55     8.912425\n",
       "          ...   \n",
       " 129    8.600534\n",
       " 63     8.597064\n",
       " 36     8.591858\n",
       " 80     8.587520\n",
       " 90     8.584266\n",
       " 67     8.583614\n",
       " 17     8.547948\n",
       " 166    8.544930\n",
       " 69     8.535677\n",
       " 116    8.525875\n",
       " 74     8.517901\n",
       " 77     8.515152\n",
       " 27     8.510318\n",
       " 141    8.506815\n",
       " 66     8.505648\n",
       " 88     8.493507\n",
       " 154    8.479100\n",
       " 101    8.469381\n",
       " 4      8.464744\n",
       " 37     8.458703\n",
       " 161    8.371668\n",
       " 62     8.363690\n",
       " 1      8.283705\n",
       " 7      8.260653\n",
       " 56     8.221389\n",
       " 89     8.098327\n",
       " 83     8.075307\n",
       " 26     7.952500\n",
       " 117    7.879157\n",
       " 149    7.815943\n",
       " Name: mu_perc_5, Length: 121, dtype: float64, 41     9.330502\n",
       " 85     9.330056\n",
       " 5      9.330056\n",
       " 136    9.328484\n",
       " 115    9.326129\n",
       " 16     9.323912\n",
       " 49     9.309647\n",
       " 6      9.306119\n",
       " 95     9.304176\n",
       " 18     9.302411\n",
       " 93     9.300469\n",
       " 13     9.298527\n",
       " 42     9.297997\n",
       " 15     9.292447\n",
       " 21     9.291442\n",
       " 128    9.290884\n",
       " 87     9.290884\n",
       " 65     9.287070\n",
       " 150    9.284481\n",
       " 125    9.281464\n",
       " 51     9.278605\n",
       " 70     9.277676\n",
       " 81     9.273989\n",
       " 10     9.271257\n",
       " 157    9.267297\n",
       " 158    9.266185\n",
       " 73     9.261320\n",
       " 160    9.260859\n",
       " 84     9.259054\n",
       " 55     9.254530\n",
       "          ...   \n",
       " 129    9.092067\n",
       " 63     9.091184\n",
       " 36     9.089955\n",
       " 80     9.088931\n",
       " 90     9.088163\n",
       " 67     9.088009\n",
       " 17     9.074955\n",
       " 166    9.073485\n",
       " 69     9.066610\n",
       " 116    9.061227\n",
       " 74     9.059370\n",
       " 77     9.058771\n",
       " 27     9.057749\n",
       " 141    9.056904\n",
       " 66     9.056329\n",
       " 88     9.051451\n",
       " 154    9.045063\n",
       " 101    9.040773\n",
       " 4      9.038579\n",
       " 37     9.035719\n",
       " 161    9.016634\n",
       " 62     9.016025\n",
       " 1      8.999964\n",
       " 7      8.995652\n",
       " 56     8.986994\n",
       " 89     8.953262\n",
       " 83     8.946742\n",
       " 26     8.912406\n",
       " 117    8.892765\n",
       " 149    8.879945\n",
       " Name: mu_perc_95, Length: 121, dtype: float64)"
      ]
     },
     "execution_count": 21,
     "metadata": {},
     "output_type": "execute_result"
    }
   ],
   "source": [
    "non_african_nations['mu_perc_5'], non_african_nations['mu_perc_95']"
   ]
  },
  {
   "cell_type": "code",
   "execution_count": 16,
   "metadata": {},
   "outputs": [
    {
     "data": {
      "text/plain": [
       "[Text(0, 0.5, 'log GDP (2000)'),\n",
       " Text(0.5, 0, 'Terrain Ruggedness Index'),\n",
       " Text(0.5, 1.0, 'African Nations')]"
      ]
     },
     "execution_count": 16,
     "metadata": {},
     "output_type": "execute_result"
    },
    {
     "data": {
      "image/png": "[encoded data removed]",
      "text/plain": [
       "<Figure size 864x432 with 2 Axes>"
      ]
     },
     "metadata": {},
     "output_type": "display_data"
    }
   ],
   "source": [
    "fig, ax = plt.subplots(nrows=1, ncols=2, figsize=(12, 6), sharey=True)\n",
    "african_nations = predictions[predictions[\"cont_africa\"] == 1]\n",
    "non_african_nations = predictions[predictions[\"cont_africa\"] == 0]\n",
    "african_nations = african_nations.sort_values(by=[\"rugged\"])\n",
    "non_african_nations = non_african_nations.sort_values(by=[\"rugged\"])\n",
    "fig.suptitle(\"Regression line 90% CI\", fontsize=16)\n",
    "ax[0].plot(non_african_nations[\"rugged\"],\n",
    "           non_african_nations[\"mu_mean\"])\n",
    "ax[0].fill_between(non_african_nations[\"rugged\"],\n",
    "                   non_african_nations[\"mu_perc_5\"],\n",
    "                   non_african_nations[\"mu_perc_95\"],\n",
    "                   alpha=0.5)\n",
    "ax[0].plot(non_african_nations[\"rugged\"],\n",
    "           non_african_nations[\"true_gdp\"],\n",
    "           \"o\")\n",
    "ax[0].set(xlabel=\"Terrain Ruggedness Index\",\n",
    "          ylabel=\"log GDP (2000)\",\n",
    "          title=\"Non African Nations\")\n",
    "idx = np.argsort(african_nations[\"rugged\"])\n",
    "ax[1].plot(african_nations[\"rugged\"],\n",
    "           african_nations[\"mu_mean\"])\n",
    "ax[1].fill_between(african_nations[\"rugged\"],\n",
    "                   african_nations[\"mu_perc_5\"],\n",
    "                   african_nations[\"mu_perc_95\"],\n",
    "                   alpha=0.5)\n",
    "ax[1].plot(african_nations[\"rugged\"],\n",
    "           african_nations[\"true_gdp\"],\n",
    "           \"o\")\n",
    "ax[1].set(xlabel=\"Terrain Ruggedness Index\",\n",
    "          ylabel=\"log GDP (2000)\",\n",
    "          title=\"African Nations\")"
   ]
  },
  {
   "cell_type": "code",
   "execution_count": 34,
   "metadata": {},
   "outputs": [],
   "source": [
    "a = np.array([[10, 7, 4], [3, 2, 1]])"
   ]
  },
  {
   "cell_type": "code",
   "execution_count": 40,
   "metadata": {},
   "outputs": [
    {
     "data": {
      "text/plain": [
       "3.5"
      ]
     },
     "execution_count": 40,
     "metadata": {},
     "output_type": "execute_result"
    }
   ],
   "source": [
    "np.percentile(a, 50)"
   ]
  },
  {
   "cell_type": "code",
   "execution_count": 46,
   "metadata": {},
   "outputs": [
    {
     "data": {
      "text/plain": [
       "<function numpy.core.multiarray.array>"
      ]
     },
     "execution_count": 46,
     "metadata": {},
     "output_type": "execute_result"
    }
   ],
   "source": [
    "np.array"
   ]
  },
  {
   "cell_type": "code",
   "execution_count": null,
   "metadata": {},
   "outputs": [],
   "source": []
  },
  {
   "cell_type": "code",
   "execution_count": null,
   "metadata": {},
   "outputs": [],
   "source": []
  },
  {
   "cell_type": "code",
   "execution_count": null,
   "metadata": {},
   "outputs": [],
   "source": []
  },
  {
   "cell_type": "code",
   "execution_count": null,
   "metadata": {},
   "outputs": [],
   "source": []
  }
 ],
 "metadata": {
  "kernelspec": {
   "display_name": "Python 3",
   "language": "python",
   "name": "python3"
  },
  "language_info": {
   "codemirror_mode": {
    "name": "ipython",
    "version": 3
   },
   "file_extension": ".py",
   "mimetype": "text/x-python",
   "name": "python",
   "nbconvert_exporter": "python",
   "pygments_lexer": "ipython3",
   "version": "3.6.5"
  }
 },
 "nbformat": 4,
 "nbformat_minor": 2
}
