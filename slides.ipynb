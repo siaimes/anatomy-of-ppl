{
 "cells": [
  {
   "cell_type": "markdown",
   "metadata": {
    "slideshow": {
     "slide_type": "slide"
    }
   },
   "source": [
    "# Anatomy of Probabilistic Programming Languages\n",
    "\n",
    "\n",
    "<br/>\n",
    "<br/>\n",
    "\n",
    "\n",
    "### <center> Suriyadeepan Ramamoorthy <center>"
   ]
  },
  {
   "cell_type": "markdown",
   "metadata": {
    "slideshow": {
     "slide_type": "slide"
    }
   },
   "source": [
    "## Frequentist\n",
    "\n",
    "- Probabilities make sense only if there is some repeating event\n",
    "- Probability over parameters don't make sense since there is only one true parameter\n",
    "- Learning is the task of searching for this one true parameter\n",
    "\n",
    "## Bayesian\n",
    "\n",
    "- Probabilities are about uncertainty\n",
    "- We are uncertain about the parameters of our model since models are approximations\n"
   ]
  },
  {
   "cell_type": "markdown",
   "metadata": {
    "slideshow": {
     "slide_type": "slide"
    }
   },
   "source": [
    "## Why Bayesian Modeling?\n",
    "\n",
    "- Small data\n",
    "- Model uncertainty\n",
    "- Transparency/Interpretability\n",
    "- No more loss hacking\n",
    "- Easy to impose constraining knowledge (as priors)\n",
    "- Easy to combine information from different types of sensors"
   ]
  },
  {
   "cell_type": "markdown",
   "metadata": {
    "slideshow": {
     "slide_type": "slide"
    }
   },
   "source": [
    "## Uncertainty\n",
    "\n",
    "- There is uncertainty inherent in data due to incompleteness and measurement noise\n",
    "- This uncertainty propogates to the model\n",
    "- Unless we explicitly account for this uncertainty in the model, we have no means of measuring and managing it"
   ]
  },
  {
   "cell_type": "markdown",
   "metadata": {
    "slideshow": {
     "slide_type": "slide"
    }
   },
   "source": [
    "## Model\n",
    "\n",
    "- Models are approximations of a real world phenomenon\n",
    "- Models are built based on our knowledge of the data generating process\n",
    "- Data-driven models combine expert insight with observed data\n",
    "- Human insight constraints the space of models\n",
    "\n",
    "\n"
   ]
  },
  {
   "cell_type": "markdown",
   "metadata": {
    "slideshow": {
     "slide_type": "slide"
    }
   },
   "source": [
    "## Frequentist Model\n",
    "\n",
    "A frequentist model (think Linear Regression $y=wx +b\\ $) is a (deterministic) mapping from features to output. \n",
    "\n",
    "- Features : $x = [x_1, x_2, .. x_n]$ \n",
    "- Model : $y = wx + b$\n",
    "- Output : $y\\ \\epsilon\\ (-\\inf, +\\inf)$\n",
    "    "
   ]
  },
  {
   "cell_type": "markdown",
   "metadata": {
    "slideshow": {
     "slide_type": "slide"
    }
   },
   "source": [
    "## Probabilistic Model\n",
    "\n",
    "A probabilistic model represent a joint probability of observed and latent variables (factors).\n",
    "Variables are probability distributions.\n",
    "\n",
    "- Observed Variable : x\n",
    "- Model : (Joint Distribution) $p(x, y)$\n",
    "    - Latent Variable : $w \\sim \\mathcal{N}(w_{loc}, w_{scale})$\n",
    "    - Latent Variable : $b \\sim \\mathcal{N}(b_{loc}, b_{scale})$\n",
    "    - $y \\sim \\mathcal{N}(wx + b)$\n",
    "- Outcome Variable : y\n",
    "    - Observed Variable during Inference\n",
    "        - $p(w | x = ..., y = ... )$\n",
    "        - $p(b | x = ..., y = ... )$\n"
   ]
  },
  {
   "cell_type": "markdown",
   "metadata": {
    "slideshow": {
     "slide_type": "slide"
    }
   },
   "source": [
    "## Probabilistic Programming\n",
    "\n",
    "- Python Constructs (if, while, ...)\n",
    "    - Recursion\n",
    "    - Higher order Functions\n",
    "- Randomness\n",
    "    - Distributions\n",
    "         - Normal\n",
    "         - Bernoulli"
   ]
  },
  {
   "cell_type": "markdown",
   "metadata": {
    "slideshow": {
     "slide_type": "slide"
    }
   },
   "source": [
    "## Distributions\n",
    "\n",
    "A distribution must have these 3 methods:\n",
    "\n",
    "- sample\n",
    "- score\n",
    "- support\n"
   ]
  },
  {
   "cell_type": "markdown",
   "metadata": {
    "slideshow": {
     "slide_type": "slide"
    }
   },
   "source": [
    "# Normal"
   ]
  },
  {
   "cell_type": "code",
   "execution_count": 4,
   "metadata": {
    "slideshow": {
     "slide_type": "fragment"
    }
   },
   "outputs": [
    {
     "data": {
      "text/plain": [
       "[<matplotlib.lines.Line2D at 0x116c107b8>]"
      ]
     },
     "execution_count": 4,
     "metadata": {},
     "output_type": "execute_result"
    },
    {
     "data": {
      "image/png": "[encoded data removed]",
      "text/plain": [
       "<Figure size 432x288 with 1 Axes>"
      ]
     },
     "metadata": {},
     "output_type": "display_data"
    }
   ],
   "source": [
    "import scipy.stats as stats\n",
    "import numpy as np\n",
    "import matplotlib.pyplot as plt\n",
    "plt.style.use('ggplot')\n",
    "x = np.linspace(-3., 3., 100)\n",
    "plt.plot(x, stats.norm.pdf(x, 0., 1.))"
   ]
  },
  {
   "cell_type": "markdown",
   "metadata": {
    "slideshow": {
     "slide_type": "slide"
    }
   },
   "source": [
    "# Normal"
   ]
  },
  {
   "cell_type": "code",
   "execution_count": 1,
   "metadata": {
    "slideshow": {
     "slide_type": "fragment"
    }
   },
   "outputs": [
    {
     "data": {
      "text/plain": [
       "(tensor(0.9652), Real(), tensor(-1.0439), tensor(-1.0439))"
      ]
     },
     "execution_count": 1,
     "metadata": {},
     "output_type": "execute_result"
    }
   ],
   "source": [
    "import torch.distributions as tdist\n",
    "d = tdist.Normal(0., 1.)\n",
    "d.sample(), d.support, d.log_prob(0.5), d.log_prob(-0.5)"
   ]
  },
  {
   "cell_type": "markdown",
   "metadata": {
    "slideshow": {
     "slide_type": "slide"
    }
   },
   "source": [
    "# Bernoulli"
   ]
  },
  {
   "cell_type": "code",
   "execution_count": 2,
   "metadata": {
    "slideshow": {
     "slide_type": "fragment"
    }
   },
   "outputs": [
    {
     "data": {
      "text/plain": [
       "(tensor(1.), Boolean())"
      ]
     },
     "execution_count": 2,
     "metadata": {},
     "output_type": "execute_result"
    }
   ],
   "source": [
    "d = tdist.Bernoulli(0.5)\n",
    "d.sample(), d.support"
   ]
  },
  {
   "cell_type": "markdown",
   "metadata": {
    "slideshow": {
     "slide_type": "slide"
    }
   },
   "source": [
    "## How to encode a model in python?\n",
    "\n",
    "We would like to write the joint probability $p(x, z)$ as a function.\n",
    "\n",
    "```python\n",
    "def model(x, y):\n",
    "    w = sample('w', Normal(0., 1.))\n",
    "    b = sample('b', Normal(0., 1.))\n",
    "    y_mean = w*x + b\n",
    "    y_sample = sample('y', Normal(y_mean, 1.))\n",
    "    return y_sample\n",
    "```"
   ]
  },
  {
   "cell_type": "markdown",
   "metadata": {
    "slideshow": {
     "slide_type": "slide"
    }
   },
   "source": [
    "## How to learn from data?\n",
    "\n",
    "- To learn from data, we need to track the variables of interest\n",
    "- In this case, `w` and `b` are our latent variables which should be inferred from the data\n",
    "- `y` is the observed variable during inference\n",
    "- **How do we track these variables?**"
   ]
  },
  {
   "cell_type": "markdown",
   "metadata": {
    "slideshow": {
     "slide_type": "slide"
    }
   },
   "source": [
    "## Tracking Variables\n",
    "\n",
    "- Notice that every variable of interest is associated with a `sample` call\n",
    "- To track the variables, we make the `sample` call \"effectful\"\n",
    "- In addition to just returning a sample from the distribution, `sample` call adds the \"sample site\" to a global registry."
   ]
  },
  {
   "cell_type": "markdown",
   "metadata": {
    "slideshow": {
     "slide_type": "slide"
    }
   },
   "source": [
    "## Enter the Stack"
   ]
  },
  {
   "cell_type": "code",
   "execution_count": 4,
   "metadata": {
    "slideshow": {
     "slide_type": "fragment"
    }
   },
   "outputs": [],
   "source": [
    "STACK = []"
   ]
  },
  {
   "cell_type": "markdown",
   "metadata": {
    "slideshow": {
     "slide_type": "slide"
    }
   },
   "source": [
    "# Learning Variables\n",
    "\n",
    "- The variables are *parametric* probability distributions ($w \\sim N(0., 1.)$)\n",
    "- Learning variables means learning the parameters of these distributions\n",
    "- Know the difference between *latent variables* and *parameters*\n",
    "\n",
    "![](https://i.imgur.com/1CyonQG.png)\n"
   ]
  },
  {
   "cell_type": "markdown",
   "metadata": {
    "slideshow": {
     "slide_type": "slide"
    }
   },
   "source": [
    "# Learning Variables\n",
    "\n",
    "$$p(x,z) = p(x)p(z|x) = p(x|z)p(z)$$\n",
    "$$p(z|x) = \\frac{p(x|z)p(z)}{p(x)}$$\n",
    "$$p(z|x) = \\frac{p(x,z)}{\\int p(x,z)\\ dz}$$\n",
    "\n",
    "<center> Learning the posterior $p(z|x)$ analytically is impossible (or just insanely hard). <center>"
   ]
  },
  {
   "cell_type": "markdown",
   "metadata": {
    "slideshow": {
     "slide_type": "slide"
    }
   },
   "source": [
    "# Variational Inference\n",
    "\n",
    "- We introduce a new parametric distribution $q_{\\phi}(z)$, parameterized by $\\phi$ (variational parameters)\n",
    "- Pyro developers chose to call this a *guide*\n",
    "\n",
    "The idea is to consider $q$ as an approximation to the true posterior $p(z\\ |\\ x)$ and optimize it to be as close as possible to the posterior, while maintaining the simplicity of $q$.\n",
    "\n",
    "![](https://i.imgur.com/5HGBpcb.png)\n"
   ]
  },
  {
   "cell_type": "markdown",
   "metadata": {
    "slideshow": {
     "slide_type": "slide"
    }
   },
   "source": [
    "# Variational Inference\n",
    "\n",
    "\n",
    "**Mean-Field Assumption**\n",
    "\n",
    "$q$ is typically chosen as a factorizable distribution\n",
    "\n",
    "$$q(z) = q(z_1)q(z_2)...q(z_m)$$\n",
    "\n",
    "**Exponential Family**\n",
    "\n",
    "$$q(z) = \\mathcal{N}(loc_{z_1}, scale_{z_1})\\mathcal{N}(loc_{z_2}, scale_{z_2})...\\mathcal{N}(loc_{z_m}, scale_{z_m})$$\n",
    "\n",
    "**Note** : Latent variables get the bayesian treatment; (Variational) Parameters don't."
   ]
  },
  {
   "cell_type": "markdown",
   "metadata": {
    "slideshow": {
     "slide_type": "slide"
    }
   },
   "source": [
    "## Encode guide as a function\n",
    "\n",
    "```python\n",
    "def guide(x, y):\n",
    "  \"\"\" Variational Parameters \"\"\"\n",
    "  w_loc = param('w_loc', 0.)\n",
    "  w_scale = param('w_scale', 1.)  # +ve\n",
    "  b_loc = param('b_loc', 0.)\n",
    "  b_scale = param('b_scale', 1.)  # +ve\n",
    "\n",
    "  \"\"\" Latent Variables \"\"\"\n",
    "  w = sample('w', Normal(w_loc, w_scale))\n",
    "  b = sample('b', Normal(b_loc, b_scale))\n",
    "```\n",
    "\n",
    "- `param` calls are effectful\n",
    "- The `param` function stores the parameters with names to the `PARAM_STORE`\n",
    "\n",
    "```python\n",
    "PARAM_STORE = {}\n",
    "```"
   ]
  },
  {
   "cell_type": "markdown",
   "metadata": {
    "slideshow": {
     "slide_type": "slide"
    }
   },
   "source": [
    "# Inference\n",
    "\n",
    "- We have turned inference to an optimization problem\n",
    "- But what is the objective function? \n",
    "    - We need our approximation to be as close as possible to the intractable posterior\n",
    "    - **Intractable** Posterior!!!\n",
    "\n",
    "![](https://i.imgur.com/XgbxrhO.png)\n"
   ]
  },
  {
   "cell_type": "markdown",
   "metadata": {
    "slideshow": {
     "slide_type": "slide"
    }
   },
   "source": [
    "# Monte-Carlo Approximation\n",
    "\n",
    "$$L = \\int_z q(z)\\ log\\frac{p(x, z)}{q(z)}$$\n",
    "\n",
    "When you see an intractable integral, you think *Monte Carlo Approximation*.\n",
    "\n",
    "$$L = \\mathbb{E}_{q_{\\phi}(z)}\\ \\big{[}log\\ p_{\\theta}(x,z) - log\\ q_{\\phi}(z)\\big{]}$$\n",
    "\n",
    "- $log\\ p_{\\theta}(x, z)$\n",
    "    - Log Probability of sample $z \\sim q(z)$ evaluated under model $p(x,z)$\n",
    "    - We add up individual log probabilites of $z_1, z_2, .. z_m$\n",
    "        - Because, *Mean-field assumption* baby!\n",
    "    - $\\{w, b\\}$ in our case\n",
    "- $log\\ q_(z)$\n",
    "    - Log probability of sample $z \\sim q(z)$ evaluated under guide $q(z)$"
   ]
  },
  {
   "cell_type": "markdown",
   "metadata": {
    "slideshow": {
     "slide_type": "slide"
    }
   },
   "source": [
    "# Being Bayesian\n",
    "\n",
    "![](https://www2.isye.gatech.edu/~brani/isyebayes/bank/bayesfun.jpg)"
   ]
  },
  {
   "cell_type": "markdown",
   "metadata": {
    "slideshow": {
     "slide_type": "slide"
    }
   },
   "source": [
    "## Implementing Inference\n",
    "\n",
    "- Remember the registry? I lied\n",
    "    - It's not exactly a registry\n",
    "- The `sample` statements are encoded as messages\n",
    "    - sent to a bunch of listeners or handlers that will make use of the messages\n",
    "\n",
    "## Message Encoding\n",
    "\n",
    "```python\n",
    "msg = {\n",
    "    'name' : 'w',\n",
    "    'type' : 'sample',  # there are other types? yeah.. hang in there!\n",
    "    'fn'   : Normal(0., 1.),\n",
    "    'stop' : False  # a handler decides to set this, so other handlers don't   touch this msg\n",
    "}\n",
    "```\n",
    "\n",
    "- The `param` function also creates a message (of type `param`) and sends it to thhe handlers.\n",
    "\n"
   ]
  },
  {
   "cell_type": "markdown",
   "metadata": {
    "slideshow": {
     "slide_type": "slide"
    }
   },
   "source": [
    "## Handlers\n",
    "\n",
    "The handlers deal with the messages (sample sites). Types of handlers : \n",
    "\n",
    "- Trace : Just take a copy of all the messages\n",
    "- Block : If a condition succeeds, set `'stop' = False`\n",
    "- Replay\n",
    "    - Run a model by reusing samples from guide\n",
    "    - Implemented to support Monte-Carlo ELBO\n",
    "    - Calculate log probability density of samples from guide $q(z)$ under the model $p(x,z)$\n",
    "    \n",
    "- Handlers are designed to support inference\n",
    "- There will be multiple handlers at work at the same time, as we will see later\n",
    "- The handlers are put in a stack. The messages are passed through the stack"
   ]
  },
  {
   "cell_type": "markdown",
   "metadata": {
    "slideshow": {
     "slide_type": "slide"
    }
   },
   "source": [
    "## ELBO Implementation\n",
    "\n",
    "```python\n",
    "def elbo(model, guide, *args, **kwargs):\n",
    "    # run guide with args\n",
    "    # record `sample` and `param` calls\n",
    "    guide_trace = trace(guide).get_trace(*args, **kwargs)\n",
    "    # trace model execution\n",
    "    # replay : reuse sampled values from guide trace\n",
    "    model_trace = trace(replay(model, guide_trace)).get_trace(*args, **kwargs)\n",
    "    # elbo\n",
    "    elbo = 0.\n",
    "    # iterate through sample sites in model\n",
    "    # add log_p(z) term to ELBO\n",
    "    for site in model_trace.values():\n",
    "        if site['type'] == 'sample':\n",
    "            elbo = elbo + site['fn'].log_prob(site['value']).sum()\n",
    "    # iterate through sample sites in guide\n",
    "    # add log_q(z) term to ELBO\n",
    "    for site in guide_trace.values():\n",
    "        if site['type'] == 'sample':\n",
    "            elbo = elbo - site['fn'].log_prob(site['value']).sum()\n",
    "    return -elbo  # because we minimize\n",
    "```"
   ]
  },
  {
   "cell_type": "markdown",
   "metadata": {
    "slideshow": {
     "slide_type": "slide"
    }
   },
   "source": [
    "## Stochastic Variational Inference\n",
    "\n",
    "```python\n",
    "class SVI(object):\n",
    "  \n",
    "  ...\n",
    "    \n",
    "  def step(self, *args, **kwargs):\n",
    "    # run trace to capture parameter values\n",
    "    with trace() as param_capture:\n",
    "      # block `sample` sites from trace; capture only parameters\n",
    "      with block(hide_fn=lambda msg : msg['type'] == 'sample'):\n",
    "        # calculate loss\n",
    "        loss = self.loss_fn(self.model, self.guide, *args, **kwargs)\n",
    "        \n",
    "    # calculate gradients\n",
    "    loss.backward()\n",
    "    # grab parameters from trace\n",
    "    params = [ site['value'].unconstrained()\n",
    "        for site in param_capture.values() ]\n",
    "    # run optimizer; update params\n",
    "    self.optimizer(params)\n",
    "    for p in params:  # clear gradients\n",
    "      p.grad = p.new_zeros(p.shape)\n",
    "    return loss.item()\n",
    "```"
   ]
  },
  {
   "cell_type": "markdown",
   "metadata": {
    "slideshow": {
     "slide_type": "slide"
    }
   },
   "source": [
    "# Latent Normal\n",
    "\n",
    "```python\n",
    "  def model(data):\n",
    "    z_loc = pyro.sample('z_loc', pdist.Normal(0., 1.))\n",
    "    # normally distributed observations\n",
    "    # for datapoint in data:\n",
    "    pyro.sample('obs', pdist.Normal(z_loc, 1.), obs=data)\n",
    "    # break\n",
    "\n",
    "  def guide(data):\n",
    "    # define parameters\n",
    "    #  loc and scale for latent variable `z_loc`\n",
    "    guide_loc = pyro.param('guide_loc', torch.tensor(0.))\n",
    "    guide_scale = pyro.param('guide_scale', torch.tensor(1.),\n",
    "        constraint=constraints.positive\n",
    "        )\n",
    "    # we would like to learn the distribution `loc`\n",
    "    pyro.sample('z_loc', pdist.Normal(guide_loc, guide_scale))\n",
    "```"
   ]
  },
  {
   "cell_type": "markdown",
   "metadata": {
    "slideshow": {
     "slide_type": "slide"
    }
   },
   "source": [
    "# Latent Normal\n",
    "\n",
    "ELBO | Parameter\n",
    "- | - \n",
    "![alt](images/1_elbo.png) | ![alt](images/1_param.png)\n",
    "\n",
    "![](images/1_density.png)\n"
   ]
  },
  {
   "cell_type": "markdown",
   "metadata": {
    "slideshow": {
     "slide_type": "slide"
    }
   },
   "source": [
    "# Linear Regression\n",
    "\n",
    "```python\n",
    "def model(x, y):\n",
    "  w = pyro.sample('w', pdist.Normal(0., 1.))\n",
    "  b = pyro.sample('b', pdist.Normal(0.5, 1.))\n",
    "  mean = w * x + b\n",
    "  pyro.sample('obs', pdist.Normal(mean, 0.01), obs=y)\n",
    "  return mean\n",
    "\n",
    "def guide(x, y):\n",
    "  w_loc = pyro.param('w_loc', torch.tensor(1.))\n",
    "  w_scale = pyro.param('w_scale', torch.tensor(1.),\n",
    "      constraint=constraints.positive\n",
    "      )\n",
    "  b_loc = pyro.param('b_loc', torch.tensor(0.))\n",
    "  b_scale = pyro.param('b_scale', torch.tensor(1.), constraint=constraints.positive)\n",
    "  w = pyro.sample('w', pdist.Normal(w_loc, w_scale))\n",
    "  b = pyro.sample('b', pdist.Normal(b_loc, b_scale))\n",
    "```"
   ]
  },
  {
   "cell_type": "markdown",
   "metadata": {
    "slideshow": {
     "slide_type": "slide"
    }
   },
   "source": [
    "# Linear Regression\n",
    "\n",
    "Posterior Predictive | Parameter Density\n",
    "- | - \n",
    "![](images/2_posterior.png) | ![a](images/2_w_density.png)\n",
    "![a](images/2_w.png)         | ![a](images/2_b.png)"
   ]
  },
  {
   "cell_type": "markdown",
   "metadata": {
    "slideshow": {
     "slide_type": "slide"
    }
   },
   "source": [
    "# Bayesian Neural Network\n",
    "\n",
    "```python\n",
    "def model(x, y):\n",
    "  w1 = pyro.sample('w1', pdist.Normal(0., 1.))\n",
    "  b1 = pyro.sample('b1', pdist.Normal(0., 1.))\n",
    "  w2 = pyro.sample('w2', pdist.Normal(0., 1.))\n",
    "  b2 = pyro.sample('b2', pdist.Normal(0., 1.))\n",
    "  # define model\n",
    "  mean = w2 * torch.tanh(w1 * x + b1) + b2\n",
    "  pyro.sample('obs', pdist.Normal(mean, 0.01), obs=y)\n",
    "  return mean\n",
    "\n",
    "```\n"
   ]
  },
  {
   "cell_type": "markdown",
   "metadata": {
    "slideshow": {
     "slide_type": "slide"
    }
   },
   "source": [
    "# Bayesian Neural Network\n",
    "\n",
    "```python\n",
    "def guide(x, y):\n",
    "  w_loc_1 = pyro.param('w_loc_1', torch.tensor(0.))\n",
    "  w_scale_1 = pyro.param('w_scale_1', torch.tensor(1.),\n",
    "      constraint=constraints.positive\n",
    "      )\n",
    "  b_loc_1 = pyro.param('b_loc_1', torch.tensor(0.))\n",
    "  b_scale_1 = pyro.param('b_scale_1', torch.tensor(1.), constraint=constraints.positive)\n",
    "\n",
    "  w_loc_2 = pyro.param('w_loc_2', torch.tensor(0.))\n",
    "  w_scale_2 = pyro.param('w_scale_2', torch.tensor(1.),\n",
    "      constraint=constraints.positive\n",
    "      )\n",
    "  b_loc_2 = pyro.param('b_loc_2', torch.tensor(0.))\n",
    "  b_scale_2 = pyro.param('b_scale_2', torch.tensor(1.), constraint=constraints.positive)\n",
    "  w1 = pyro.sample('w1', pdist.Normal(w_loc_1, w_scale_1))\n",
    "  b1 = pyro.sample('b1', pdist.Normal(b_loc_1, b_scale_1))\n",
    "  w2 = pyro.sample('w2', pdist.Normal(w_loc_2, w_scale_2))\n",
    "  b2 = pyro.sample('b2', pdist.Normal(b_loc_2, b_scale_2))\n",
    "```"
   ]
  },
  {
   "cell_type": "markdown",
   "metadata": {
    "slideshow": {
     "slide_type": "slide"
    }
   },
   "source": [
    "# Bayesian Neural Network\n",
    "\n",
    "\n",
    "_ | _\n",
    "- | - \n",
    "![](images/3_three_points.png) | ![a](images/3_one_point.png)\n"
   ]
  },
  {
   "cell_type": "markdown",
   "metadata": {
    "slideshow": {
     "slide_type": "slide"
    }
   },
   "source": [
    "# Bayesian Neural Network\n",
    "\n",
    "![](images/3_real_three_points.png)"
   ]
  },
  {
   "cell_type": "markdown",
   "metadata": {
    "slideshow": {
     "slide_type": "slide"
    }
   },
   "source": [
    "# Logistic Regression\n",
    "\n",
    "```python\n",
    "def model(x, y):\n",
    "  w = pyro.sample('w', pdist.Normal(torch.zeros(4), torch.ones(4)))\n",
    "  b = pyro.sample('b', pdist.Normal(0., 1.))\n",
    "  y_hat = torch.sigmoid((w * x).sum(dim=1) + b)\n",
    "  pyro.sample('obs', pdist.Bernoulli(y_hat), obs=y)\n",
    "\n",
    "def guide(x, y):\n",
    "  w_loc = pyro.param('w_loc', torch.zeros(4))\n",
    "  w_scale = pyro.param('w_scale', torch.ones(4),\n",
    "      constraint=constraints.positive\n",
    "      )\n",
    "  b_loc = pyro.param('b_loc', torch.tensor(0.))\n",
    "  b_scale = pyro.param('b_scale', torch.tensor(1.), constraint=constraints.positive)\n",
    "  w = pyro.sample('w', pdist.Normal(w_loc, w_scale))\n",
    "  b = pyro.sample('b', pdist.Normal(b_loc, b_scale))\n",
    "```"
   ]
  },
  {
   "cell_type": "markdown",
   "metadata": {
    "slideshow": {
     "slide_type": "slide"
    }
   },
   "source": [
    "# Logistic Regression\n",
    "\n",
    "\n",
    "```\n",
    "[1.0] 995/1000 with 99.5% certainty\n",
    "[0.0] 981/1000 with 98.1% certainty\n",
    "[1.0] 989/1000 with 98.9% certainty\n",
    "[0.0] 993/1000 with 99.3% certainty\n",
    "[1.0] 999/1000 with 99.9% certainty\n",
    "[0.0] 997/1000 with 99.7% certainty\n",
    "[1.0] 996/1000 with 99.6% certainty\n",
    "[1.0] 997/1000 with 99.7% certainty\n",
    "[0.0] 932/1000 with 93.2% certainty\n",
    "[0.0] 996/1000 with 99.6% certainty\n",
    "[0.0] 982/1000 with 98.2% certainty\n",
    "[1.0] 994/1000 with 99.4% certainty\n",
    "[1.0] 999/1000 with 99.9% certainty\n",
    "[1.0] 993/1000 with 99.3% certainty\n",
    "```"
   ]
  },
  {
   "cell_type": "markdown",
   "metadata": {
    "slideshow": {
     "slide_type": "slide"
    }
   },
   "source": [
    "## References\n",
    "\n",
    "- Code : [suriyadeepan/anatomy-of-ppl](https://github.com/suriyadeepan/anatomy-of-ppl)\n",
    "- Osvaldo Martin's [Bayesian Analysis with Python](https://www.packtpub.com/big-data-and-business-intelligence/bayesian-analysis-python-second-edition)\n",
    "- Uber's [Pyro](http://pyro.ai/)\n",
    "- Noah Goodman's [The Design and Implementation of Probabilistic Programming Languages](http://dippl.org/)"
   ]
  }
 ],
 "metadata": {
  "celltoolbar": "Slideshow",
  "kernelspec": {
   "display_name": "Python 3",
   "language": "python",
   "name": "python3"
  },
  "language_info": {
   "codemirror_mode": {
    "name": "ipython",
    "version": 3
   },
   "file_extension": ".py",
   "mimetype": "text/x-python",
   "name": "python",
   "nbconvert_exporter": "python",
   "pygments_lexer": "ipython3",
   "version": "3.6.5"
  }
 },
 "nbformat": 4,
 "nbformat_minor": 2
}
